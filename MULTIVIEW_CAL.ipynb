{
 "cells": [
  {
   "cell_type": "code",
   "execution_count": 1,
   "metadata": {},
   "outputs": [],
   "source": [
    "import apriltag\n",
    "import cv2\n",
    "import numpy as np\n",
    "import copy\n",
    "import matplotlib.pyplot as plt\n",
    "import glob"
   ]
  },
  {
   "cell_type": "code",
   "execution_count": 2,
   "metadata": {},
   "outputs": [],
   "source": [
    "%matplotlib inline"
   ]
  },
  {
   "cell_type": "markdown",
   "metadata": {},
   "source": [
    "# APRILTAG CORNER DEBUG IMAGE GENERATION"
   ]
  },
  {
   "cell_type": "code",
   "execution_count": 3,
   "metadata": {},
   "outputs": [],
   "source": [
    "render_debug = True\n",
    "\n",
    "detector = apriltag.Detector()\n",
    "\n",
    "data_pair = ['0', '1']\n",
    "data_pair = ['1', '2']\n",
    "data_pair = ['2', '3']\n",
    "\n",
    "camera_name_pair = ['cam%02d'%int(x) for x in data_pair]\n",
    "data_root = '/workspace/multiview_calibration/MULTIVIEW/cal_image'\n",
    "cam_dir = data_pair[0]+'-'+data_pair[1]\n",
    "debug_dir = os.path.join(data_root, cam_dir, 'debug_cal')\n",
    "\n",
    "if not os.path.exists(debug_dir):\n",
    "    os.makedirs(debug_dir)\n",
    "\n",
    "for cam_i in range(2):\n",
    "\n",
    "    images = glob.glob(os.path.join(data_root, cam_dir, camera_name_pair[cam_i], '*.png'))\n",
    "    images.sort()\n",
    "\n",
    "    blue = [255,0,0]\n",
    "    red = [0,0,255]\n",
    "    greed = [0,255,0]\n",
    "    purple = [255,0,255]\n",
    "    colors = [blue, red, greed, purple]\n",
    "\n",
    "    frame = 0\n",
    "    #fname = images[0]\n",
    "    for fname in images:\n",
    "        \n",
    "        img = cv2.imread(fname, cv2.IMREAD_GRAYSCALE)\n",
    "        img_plot = cv2.imread(fname)\n",
    "        result = detector.detect(img)\n",
    "        num_detection = len(result)\n",
    "\n",
    "        for i_tag in range(num_detection):\n",
    "        \n",
    "            one_tag = result[i_tag]\n",
    "            one_tagname = result[i_tag].tag_family\n",
    "            one_corners = result[i_tag].corners\n",
    "\n",
    "            if render_debug:\n",
    "                for i_corner in range(4):\n",
    "                    img_plot = cv2.circle(img_plot, (int(one_corners[i_corner,0]),int(one_corners[i_corner,1])), 0, colors[i_corner], 10)\n",
    "        \n",
    "        if render_debug:\n",
    "            cv2.imwrite(os.path.join(debug_dir, camera_name_pair[cam_i]+'_%04d.png'%frame), img_plot)\n",
    "            frame += 1\n",
    "    "
   ]
  },
  {
   "cell_type": "code",
   "execution_count": null,
   "metadata": {},
   "outputs": [],
   "source": []
  },
  {
   "cell_type": "markdown",
   "metadata": {},
   "source": [
    "# APRILTAG IMAGE LOAD"
   ]
  },
  {
   "cell_type": "code",
   "execution_count": 4,
   "metadata": {},
   "outputs": [
    {
     "name": "stdout",
     "output_type": "stream",
     "text": [
      "(2100, 2800)\n"
     ]
    }
   ],
   "source": [
    "img = cv2.imread('/workspace/multiview_calibration/ros-apriltag-board.png', cv2.IMREAD_GRAYSCALE)\n",
    "img = cv2.rotate(img, cv2.ROTATE_90_COUNTERCLOCKWISE)\n",
    "print(img.shape)\n",
    "#april_sample.png\n",
    "detector = apriltag.Detector()\n",
    "base_result = detector.detect(img)"
   ]
  },
  {
   "cell_type": "code",
   "execution_count": 5,
   "metadata": {},
   "outputs": [],
   "source": [
    "blue = [255,0,0]\n",
    "red = [0,0,255]\n",
    "greed = [0,255,0]\n",
    "purple = [255,0,255]\n",
    "\n",
    "colors = [blue, red, greed, purple]\n",
    "num_detection = len(base_result)\n",
    "\n",
    "img_plot = cv2.imread('/workspace/multiview_calibration/ros-apriltag-board.png')\n",
    "img_plot = cv2.rotate(img_plot, cv2.ROTATE_90_COUNTERCLOCKWISE)\n",
    "\n",
    "for i_tag in range(num_detection):\n",
    "    \n",
    "    one_tag = base_result[i_tag]\n",
    "    one_tagname = base_result[i_tag].tag_family\n",
    "    one_corners = base_result[i_tag].corners\n",
    "    \n",
    "    for i_corner in range(4):\n",
    "        img_plot = cv2.circle(img_plot, (int(one_corners[i_corner,0]),int(one_corners[i_corner,1])), 0, colors[i_corner], 30)"
   ]
  },
  {
   "cell_type": "code",
   "execution_count": 6,
   "metadata": {},
   "outputs": [],
   "source": [
    "# fig=plt.figure(figsize=(8,12), dpi= 100, facecolor='w', edgecolor='k')\n",
    "# plt.imshow(img_plot[:,:,::-1])"
   ]
  },
  {
   "cell_type": "code",
   "execution_count": null,
   "metadata": {},
   "outputs": [],
   "source": []
  },
  {
   "cell_type": "markdown",
   "metadata": {},
   "source": [
    "# SYNTHESIS"
   ]
  },
  {
   "cell_type": "code",
   "execution_count": 7,
   "metadata": {},
   "outputs": [
    {
     "name": "stdout",
     "output_type": "stream",
     "text": [
      "0.7345785399624056\n",
      "[[1.31568055e+03 0.00000000e+00 9.47438040e+02]\n",
      " [0.00000000e+00 1.32062068e+03 5.36582054e+02]\n",
      " [0.00000000e+00 0.00000000e+00 1.00000000e+00]]\n",
      "0.6870781350304865\n",
      "[[527.01152016   0.         962.66095536]\n",
      " [  0.         526.63321951 539.11550104]\n",
      " [  0.           0.           1.        ]]\n"
     ]
    }
   ],
   "source": [
    "data_pair = ['0', '1']\n",
    "# data_pair = ['1', '2']\n",
    "# data_pair = ['2', '3']\n",
    "\n",
    "camera_name_pair = ['cam%02d'%int(x) for x in data_pair]\n",
    "data_root = '/workspace/multiview_calibration/MULTIVIEW/cal_image'\n",
    "cam_dir = data_pair[0]+'-'+data_pair[1]\n",
    "debug_dir = os.path.join(data_root, cam_dir, 'debug_cal')\n",
    "\n",
    "for cam_i in range(2):\n",
    "    detector = apriltag.Detector()\n",
    "\n",
    "    # Arrays to store object points and image points from all the images.\n",
    "    april_objpoints = [] # 3d point in real world space\n",
    "    april_imgpoints = [] # 2d points in image plane.\n",
    "\n",
    "    images = glob.glob(os.path.join(data_root, cam_dir, camera_name_pair[cam_i], '*.png'))\n",
    "    # images = glob.glob(os.path.join(data_root, 'raw_data', '*.png'))\n",
    "    images.sort()\n",
    "\n",
    "    for fname in images:\n",
    "        \n",
    "        img = cv2.imread(fname, cv2.IMREAD_GRAYSCALE)\n",
    "        img_plot = cv2.imread(fname)\n",
    "        result = detector.detect(img)\n",
    "        num_detection = len(result)\n",
    "        \n",
    "        detected_tag = []\n",
    "        april_imgpt = []\n",
    "        for i_tag in range(num_detection):\n",
    "            one_tag = result[i_tag]\n",
    "            detected_tag.append(one_tag.tag_id)\n",
    "            one_corners = one_tag.corners\n",
    "            april_imgpt.append(one_corners)\n",
    "            \n",
    "        april_imgpt = np.array(april_imgpt)\n",
    "        april_imgpt = april_imgpt.reshape(-1, 1, 2)\n",
    "        april_imgpoints.append(april_imgpt.astype(np.float32))\n",
    "        # MAKE OBJP\n",
    "        apriltag_objp = []\n",
    "        for i_tag in detected_tag:\n",
    "            base_one_tag = base_result[i_tag]\n",
    "            base_one_corners = base_one_tag.corners\n",
    "            apriltag_objp.append(base_one_corners)\n",
    "\n",
    "        apriltag_objp = np.array(apriltag_objp)\n",
    "        apriltag_objp = apriltag_objp.reshape(-1,2)\n",
    "        _zeros = np.zeros([apriltag_objp.shape[0],1])\n",
    "        apriltag_objp = np.concatenate([apriltag_objp, _zeros], axis=1)\n",
    "        apriltag_objp *= 50/(597.00000089 - 27.99999955)\n",
    "        april_objpoints.append(apriltag_objp.astype(np.float32))\n",
    "\n",
    "    ret, mtx, dist, rvecs, tvecs = cv2.calibrateCamera(april_objpoints, april_imgpoints, img.shape[::-1],None,None)\n",
    "    print(ret)\n",
    "    print(mtx)\n",
    "    assert ret < 0.9, 'reprojection error is too high!'\n",
    "    # SAVE NUMPY K INTRINSIC FILE\n",
    "    intrinsic_numpy_dir = os.path.join(data_root, cam_dir, camera_name_pair[cam_i]+'_K.npy')\n",
    "    np.save(intrinsic_numpy_dir, mtx)\n",
    "    rvec_numpy_dir = os.path.join(data_root, cam_dir, camera_name_pair[cam_i]+'_rvec.npy')\n",
    "    np.save(rvec_numpy_dir, np.array(rvecs))\n",
    "    tvec_numpy_dir = os.path.join(data_root, cam_dir, camera_name_pair[cam_i]+'_tvec.npy')\n",
    "    np.save(tvec_numpy_dir, np.array(tvecs))\n",
    "\n",
    "    # LATER, DISTORTION SHOULD BE CONSIDERED.\n"
   ]
  },
  {
   "cell_type": "code",
   "execution_count": null,
   "metadata": {},
   "outputs": [],
   "source": []
  },
  {
   "cell_type": "markdown",
   "metadata": {},
   "source": [
    "# CALCULATE R and T"
   ]
  },
  {
   "cell_type": "code",
   "execution_count": 8,
   "metadata": {},
   "outputs": [],
   "source": [
    "from scipy.spatial.transform import Rotation as scipy_R"
   ]
  },
  {
   "cell_type": "code",
   "execution_count": 9,
   "metadata": {},
   "outputs": [],
   "source": [
    "data_pair = ['0', '1']\n",
    "data_pair = ['1', '2']\n",
    "data_pair = ['2', '3']\n",
    "\n",
    "camera_name_pair = ['cam%02d'%int(x) for x in data_pair]\n",
    "data_root = '/workspace/multiview_calibration/MULTIVIEW/cal_image'\n",
    "cam_dir = data_pair[0]+'-'+data_pair[1]\n",
    "\n",
    "first_K_np = np.load(os.path.join(data_root, cam_dir, camera_name_pair[0]+'_K.npy')) # 3, 3\n",
    "second_K_np = np.load(os.path.join(data_root, cam_dir, camera_name_pair[1]+'_K.npy'))\n",
    "first_rvec_np = np.load(os.path.join(data_root, cam_dir, camera_name_pair[0]+'_rvec.npy')) # 10, 3, 1\n",
    "second_rvec_np = np.load(os.path.join(data_root, cam_dir, camera_name_pair[1]+'_rvec.npy'))\n",
    "first_tvec_np = np.load(os.path.join(data_root, cam_dir, camera_name_pair[0]+'_tvec.npy'))\n",
    "second_tvec_np = np.load(os.path.join(data_root, cam_dir, camera_name_pair[1]+'_tvec.npy'))"
   ]
  },
  {
   "cell_type": "code",
   "execution_count": 10,
   "metadata": {},
   "outputs": [],
   "source": [
    "def calculate_Tr(K_np, rvec_np, tvec_np):\n",
    "    _R_cv2bcam = np.array([[1,0,0],\n",
    "                       [0,-1,0],\n",
    "                       [0,0,-1]])\n",
    "    R, _ = cv2.Rodrigues(rvec_np)\n",
    "    # t = tvec_np[_i]/100. #(mm to M)? scale problem exist.\n",
    "    t = tvec_np/100. #(mm to M)? scale problem exist.\n",
    "    # k = first_K_np\n",
    "    R_bcam= np.matmul(_R_cv2bcam, R)\n",
    "    T_bcam = np.matmul(_R_cv2bcam, t)                       \n",
    "    R_world = R_bcam.transpose()\n",
    "    T_world = -np.matmul(R_world, T_bcam)\n",
    "\n",
    "    R_world = R_world.reshape(3,3)\n",
    "    T_world = T_world.reshape(3,1)\n",
    "\n",
    "    Tr = np.identity(4)\n",
    "    Tr[:3,:3] = R_world\n",
    "    Tr[:3,3:] = T_world\n",
    "\n",
    "    return Tr"
   ]
  },
  {
   "cell_type": "code",
   "execution_count": 11,
   "metadata": {},
   "outputs": [],
   "source": [
    "# i = 0\n",
    "\n",
    "# Tr_first = calculate_Tr(K_np=first_K_np, rvec_np=first_rvec_np[i], tvec_np=first_tvec_np[i])\n",
    "# Tr_second = calculate_Tr(K_np=second_K_np, rvec_np=second_rvec_np[i], tvec_np=second_tvec_np[i])\n",
    "\n",
    "# R_world_first = Tr_first[:3,:3]\n",
    "# T_world_first = Tr_first[:3,3:]\n",
    "# R_world_second = Tr_second[:3,:3]\n",
    "# T_world_second = Tr_second[:3,3:]\n",
    "\n",
    "# np.save(os.path.join(data_root, cam_dir, camera_name_pair[0]+'_Tr.npy'), Tr_first)\n",
    "# np.save(os.path.join(data_root, cam_dir, camera_name_pair[1]+'_Tr.npy'), Tr_second)"
   ]
  },
  {
   "cell_type": "code",
   "execution_count": 12,
   "metadata": {},
   "outputs": [],
   "source": [
    "trans_rvec_list = []\n",
    "trans_tvec_list = []\n",
    "\n",
    "for i in range(len(first_rvec_np)):\n",
    "\n",
    "    # rvec and tvec to world space\n",
    "    R_first, _ = cv2.Rodrigues(first_rvec_np[i])\n",
    "    R_world_first = R_first.transpose()\n",
    "    t_first = first_tvec_np[i]\n",
    "    t_world_first = -np.matmul(R_world_first, t_first)\n",
    "\n",
    "    R_second, _ = cv2.Rodrigues(second_rvec_np[i])\n",
    "    R_world_second = R_second.transpose()\n",
    "    t_second = second_tvec_np[i]\n",
    "    t_world_second = -np.matmul(R_world_second, t_second)\n",
    "\n",
    "    # Ttrans + t_first = t_second\n",
    "    T_trans_world = t_world_second - t_world_first\n",
    "    # R_first * Rtrans = R_second\n",
    "    R_trans_world = np.matmul(np.linalg.inv(R_world_first), R_world_second)\n",
    "    T_trans_world = np.matmul(np.linalg.inv(R_world_first), T_trans_world)\n",
    "\n",
    "    # TO CAM COORD\n",
    "    R_trans_cam = R_trans_world.transpose()\n",
    "    T_trans_cam = -np.matmul(R_trans_cam, T_trans_world)\n",
    "\n",
    "    r_scipy = scipy_R.from_matrix(R_trans_cam)\n",
    "    rvec_trans = r_scipy.as_rotvec().reshape(3,1)\n",
    "\n",
    "    trans_rvec_list.append(rvec_trans)\n",
    "    trans_tvec_list.append(T_trans_cam)\n",
    "\n",
    "trans_rvec_list = np.array(trans_rvec_list)\n",
    "trans_tvec_list = np.array(trans_tvec_list)"
   ]
  },
  {
   "cell_type": "code",
   "execution_count": 13,
   "metadata": {},
   "outputs": [],
   "source": [
    "np.save(os.path.join(data_root, cam_dir, camera_name_pair[0]+'_'+camera_name_pair[1]+'_trans_rvec.npy'), trans_rvec_list)\n",
    "np.save(os.path.join(data_root, cam_dir, camera_name_pair[0]+'_'+camera_name_pair[1]+'_trans_tvec.npy'), trans_tvec_list)"
   ]
  },
  {
   "cell_type": "code",
   "execution_count": 14,
   "metadata": {},
   "outputs": [],
   "source": [
    "Tr_origin = calculate_Tr(K_np=None, rvec_np=np.array([.0,.0,.0]), tvec_np=np.array([.0,.0,.0])) \n",
    "Tr_trans = calculate_Tr(K_np=None, rvec_np=trans_rvec_list[i], tvec_np=trans_tvec_list[i])\n",
    "np.save(os.path.join(data_root, cam_dir, 'origin_Tr.npy'), Tr_origin)\n",
    "np.save(os.path.join(data_root, cam_dir, camera_name_pair[0] +'_'+camera_name_pair[1]+'_Tr.npy'), Tr_trans)"
   ]
  },
  {
   "cell_type": "code",
   "execution_count": null,
   "metadata": {},
   "outputs": [],
   "source": []
  },
  {
   "cell_type": "code",
   "execution_count": null,
   "metadata": {},
   "outputs": [],
   "source": []
  },
  {
   "cell_type": "code",
   "execution_count": null,
   "metadata": {},
   "outputs": [],
   "source": []
  },
  {
   "cell_type": "markdown",
   "metadata": {},
   "source": [
    "# CHAIN RT"
   ]
  },
  {
   "cell_type": "code",
   "execution_count": 25,
   "metadata": {},
   "outputs": [],
   "source": [
    "data_root = '/workspace/multiview_calibration/MULTIVIEW/cal_image'\n",
    "\n",
    "data_pair = ['0', '1']\n",
    "camera_name_pair = ['cam%02d'%int(x) for x in data_pair]\n",
    "cam_dir = data_pair[0]+'-'+data_pair[1]\n",
    "trans_rvec_1_2 = np.load(os.path.join(data_root, cam_dir, camera_name_pair[0]+'_'+camera_name_pair[1]+'_trans_rvec.npy')) # 3, 3\n",
    "trans_rvec_0_1 = trans_rvec_0_1[0]\n",
    "trans_tvec_0_1 = np.load(os.path.join(data_root, cam_dir, camera_name_pair[0]+'_'+camera_name_pair[1]+'_trans_tvec.npy')) # 3, 3\n",
    "trans_tvec_0_1 = trans_tvec_0_1[0]\n",
    "\n",
    "data_pair = ['1', '2']\n",
    "camera_name_pair = ['cam%02d'%int(x) for x in data_pair]\n",
    "cam_dir = data_pair[0]+'-'+data_pair[1]\n",
    "trans_rvec_1_2 = np.load(os.path.join(data_root, cam_dir, camera_name_pair[0]+'_'+camera_name_pair[1]+'_trans_rvec.npy')) # 3, 3\n",
    "trans_rvec_1_2 = trans_rvec_1_2[0]\n",
    "trans_tvec_1_2 = np.load(os.path.join(data_root, cam_dir, camera_name_pair[0]+'_'+camera_name_pair[1]+'_trans_tvec.npy')) # 3, 3\n",
    "trans_tvec_1_2 = trans_tvec_1_2[0]\n",
    "\n",
    "data_pair = ['2', '3']\n",
    "camera_name_pair = ['cam%02d'%int(x) for x in data_pair]\n",
    "cam_dir = data_pair[0]+'-'+data_pair[1]\n",
    "trans_rvec_2_3 = np.load(os.path.join(data_root, cam_dir, camera_name_pair[0]+'_'+camera_name_pair[1]+'_trans_rvec.npy')) # 3, 3\n",
    "trans_rvec_2_3 = trans_rvec_2_3[0]\n",
    "trans_tvec_2_3 = np.load(os.path.join(data_root, cam_dir, camera_name_pair[0]+'_'+camera_name_pair[1]+'_trans_tvec.npy')) # 3, 3\n",
    "trans_tvec_2_3 = trans_tvec_2_3[0]"
   ]
  },
  {
   "cell_type": "code",
   "execution_count": 41,
   "metadata": {},
   "outputs": [],
   "source": [
    "def get_RT_world_from_rtvec(_rvec=[.0,.0,.0], _tvec=[.0,.0,.0]):\n",
    "    _R_c, _ = cv2.Rodrigues(_rvec)\n",
    "    _R_w = _R_c.transpose()\n",
    "    _T_c = _tvec\n",
    "    _T_w = -np.matmul(_R_w, _T_c)\n",
    "    return _R_w, _T_w"
   ]
  },
  {
   "cell_type": "code",
   "execution_count": 51,
   "metadata": {},
   "outputs": [],
   "source": [
    "def from_world_to_cam_coord(_R_w, _T_w):\n",
    "    _R_cam = _R_w.transpose()\n",
    "    _T_cam = -np.matmul(_R_cam, _T_w)\n",
    "    _r_scipy = scipy_R.from_matrix(_R_cam)\n",
    "    _rvec = _r_scipy.as_rotvec().reshape(3,1)\n",
    "    _tvec = _T_cam.reshape(3,1)\n",
    "    return _rvec, _tvec"
   ]
  },
  {
   "cell_type": "code",
   "execution_count": 63,
   "metadata": {},
   "outputs": [],
   "source": [
    "# rvec and tvec to world space\n",
    "R_world_0_1, T_world_0_1 = get_RT_world_from_rtvec(_rvec=trans_rvec_0_1, _tvec=trans_tvec_0_1)\n",
    "R_world_1_2, T_world_1_2 = get_RT_world_from_rtvec(_rvec=trans_rvec_1_2, _tvec=trans_tvec_1_2)\n",
    "R_world_2_3, T_world_2_3 = get_RT_world_from_rtvec(_rvec=trans_rvec_2_3, _tvec=trans_tvec_2_3)"
   ]
  },
  {
   "cell_type": "code",
   "execution_count": 64,
   "metadata": {},
   "outputs": [],
   "source": [
    "# 0 - 1\n",
    "rvec_0_1, tvec_0_1 = from_world_to_cam_coord(_R_w=R_world_0_1, _T_w=T_world_0_1)\n",
    "\n",
    "# 0 - 2\n",
    "R_world_0_2 = np.matmul(R_world_0_1, R_world_1_2)\n",
    "T_world_0_2 = T_world_0_1 + np.matmul(R_world_0_1, T_world_1_2)\n",
    "# TO CAM COORD\n",
    "rvec_0_2, tvec_0_2 = from_world_to_cam_coord(_R_w=R_world_0_2, _T_w=T_world_0_2)\n",
    "\n",
    "# 0 - 3\n",
    "R_world_0_3 = np.matmul(R_world_0_2, R_world_2_3)\n",
    "T_world_0_3 = T_world_0_2 + np.matmul(R_world_0_2, T_world_2_3)\n",
    "# TO CAM COORD\n",
    "rvec_0_3, tvec_0_3 = from_world_to_cam_coord(_R_w=R_world_0_3, _T_w=T_world_0_3)\n"
   ]
  },
  {
   "cell_type": "code",
   "execution_count": 65,
   "metadata": {},
   "outputs": [],
   "source": [
    "Tr_origin = calculate_Tr(K_np=None, rvec_np=np.array([.0,.0,.0]), tvec_np=np.array([.0,.0,.0]))\n",
    "np.save(os.path.join(data_root, 'origin_Tr.npy'), Tr_origin)\n",
    "\n",
    "Tr_trans = calculate_Tr(K_np=None, rvec_np=rvec_0_1, tvec_np=tvec_0_1)\n",
    "np.save(os.path.join(data_root, 'cam00_cam01'+'_Tr.npy'), Tr_trans)\n",
    "\n",
    "Tr_trans = calculate_Tr(K_np=None, rvec_np=rvec_0_2, tvec_np=tvec_0_2)\n",
    "np.save(os.path.join(data_root, 'cam00_cam02'+'_Tr.npy'), Tr_trans)\n",
    "\n",
    "Tr_trans = calculate_Tr(K_np=None, rvec_np=rvec_0_3, tvec_np=tvec_0_3)\n",
    "np.save(os.path.join(data_root, 'cam00_cam03'+'_Tr.npy'), Tr_trans)"
   ]
  },
  {
   "cell_type": "code",
   "execution_count": 48,
   "metadata": {},
   "outputs": [
    {
     "data": {
      "text/plain": [
       "'/workspace/multiview_calibration/MULTIVIEW/cal_image/2-3/cam00_cam02_Tr.npy'"
      ]
     },
     "execution_count": 48,
     "metadata": {},
     "output_type": "execute_result"
    }
   ],
   "source": []
  },
  {
   "cell_type": "code",
   "execution_count": null,
   "metadata": {},
   "outputs": [],
   "source": []
  }
 ],
 "metadata": {
  "interpreter": {
   "hash": "767d51c1340bd893661ea55ea3124f6de3c7a262a8b4abca0554b478b1e2ff90"
  },
  "kernelspec": {
   "display_name": "Python 3.5.2 64-bit",
   "language": "python",
   "name": "python3"
  },
  "language_info": {
   "codemirror_mode": {
    "name": "ipython",
    "version": 3
   },
   "file_extension": ".py",
   "mimetype": "text/x-python",
   "name": "python",
   "nbconvert_exporter": "python",
   "pygments_lexer": "ipython3",
   "version": "3.5.2"
  }
 },
 "nbformat": 4,
 "nbformat_minor": 2
}
