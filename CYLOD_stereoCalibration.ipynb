{
 "cells": [
  {
   "cell_type": "code",
   "execution_count": 1,
   "metadata": {},
   "outputs": [],
   "source": [
    "import apriltag\n",
    "import cv2\n",
    "import numpy as np\n",
    "import copy\n",
    "import matplotlib.pyplot as plt\n",
    "import glob\n",
    "from scipy.optimize import minimize, least_squares\n",
    "from scipy.spatial.transform import Rotation as scipy_R"
   ]
  },
  {
   "cell_type": "code",
   "execution_count": 2,
   "metadata": {},
   "outputs": [],
   "source": [
    "%matplotlib inline"
   ]
  },
  {
   "cell_type": "code",
   "execution_count": 54,
   "metadata": {},
   "outputs": [],
   "source": [
    "def calculate_Tr(K_np, rvec_np, tvec_np):\n",
    "    _R_cv2bcam = np.array([[1,0,0],\n",
    "                       [0,-1,0],\n",
    "                       [0,0,-1]])\n",
    "    R, _ = cv2.Rodrigues(rvec_np)\n",
    "    # t = tvec_np[_i]/100. #(mm to M)? scale problem exist.\n",
    "    t = tvec_np/100. #(mm to M)? scale problem exist.\n",
    "    # k = first_K_np\n",
    "    R_bcam= np.matmul(_R_cv2bcam, R)\n",
    "    T_bcam = np.matmul(_R_cv2bcam, t)                       \n",
    "    R_world = R_bcam.transpose()\n",
    "    T_world = -np.matmul(R_world, T_bcam)\n",
    "\n",
    "    R_world = R_world.reshape(3,3)\n",
    "    T_world = T_world.reshape(3,1)\n",
    "\n",
    "    Tr = np.identity(4)\n",
    "    Tr[:3,:3] = R_world\n",
    "    Tr[:3,3:] = T_world\n",
    "\n",
    "    return Tr# debugging image is not nessesary, apriltag detection already confirmed."
   ]
  },
  {
   "cell_type": "markdown",
   "metadata": {},
   "source": [
    "# APRILTAG IMAGE LOAD"
   ]
  },
  {
   "cell_type": "code",
   "execution_count": 4,
   "metadata": {},
   "outputs": [
    {
     "name": "stdout",
     "output_type": "stream",
     "text": [
      "(2100, 2800)\n"
     ]
    }
   ],
   "source": [
    "img = cv2.imread('/workspace/multiview_calibration/ros-apriltag-board.png', cv2.IMREAD_GRAYSCALE)\n",
    "img = cv2.rotate(img, cv2.ROTATE_90_COUNTERCLOCKWISE)\n",
    "print(img.shape)\n",
    "#april_sample.png\n",
    "detector = apriltag.Detector()\n",
    "base_result = detector.detect(img)"
   ]
  },
  {
   "cell_type": "code",
   "execution_count": 5,
   "metadata": {},
   "outputs": [],
   "source": [
    "blue = [255,0,0]\n",
    "red = [0,0,255]\n",
    "greed = [0,255,0]\n",
    "purple = [255,0,255]\n",
    "\n",
    "colors = [blue, red, greed, purple]\n",
    "num_detection = len(base_result)\n",
    "\n",
    "img_plot = cv2.imread('/workspace/multiview_calibration/ros-apriltag-board.png')\n",
    "img_plot = cv2.rotate(img_plot, cv2.ROTATE_90_COUNTERCLOCKWISE)\n",
    "\n",
    "for i_tag in range(num_detection):\n",
    "    \n",
    "    one_tag = base_result[i_tag]\n",
    "    one_tagname = base_result[i_tag].tag_family\n",
    "    one_corners = base_result[i_tag].corners\n",
    "    \n",
    "    for i_corner in range(4):\n",
    "        img_plot = cv2.circle(img_plot, (int(one_corners[i_corner,0]),int(one_corners[i_corner,1])), 0, colors[i_corner], 30)"
   ]
  },
  {
   "cell_type": "code",
   "execution_count": 6,
   "metadata": {},
   "outputs": [
    {
     "data": {
      "text/plain": [
       "<matplotlib.image.AxesImage at 0x7f6a46c1df98>"
      ]
     },
     "execution_count": 6,
     "metadata": {},
     "output_type": "execute_result"
    },
    {
     "data": {
      "image/png": "[encoded data removed]",
      "text/plain": [
       "<Figure size 800x1200 with 1 Axes>"
      ]
     },
     "metadata": {},
     "output_type": "display_data"
    }
   ],
   "source": [
    "fig=plt.figure(figsize=(8,12), dpi= 100, facecolor='w', edgecolor='k')\n",
    "plt.imshow(img_plot[:,:,::-1])"
   ]
  },
  {
   "cell_type": "markdown",
   "metadata": {},
   "source": [
    "# LOAD INTRINSIC RESULTS"
   ]
  },
  {
   "cell_type": "code",
   "execution_count": 9,
   "metadata": {},
   "outputs": [],
   "source": [
    "# 22240376_intrinsic_result.npz\n",
    "# load intrinsic result from npz file\n",
    "#left_22240382_right_22240376\n",
    "left_serial = '22240382'\n",
    "right_serial = '22240376'\n",
    "data_root = '/workspace/multiview_calibration/MULTIVIEW/cal_image'\n",
    "\n",
    "left_npz_file = np.load(os.path.join(data_root, 'intrinsic_images', left_serial + '_intrinsic_result.npz'))\n",
    "left_mtx = left_npz_file['mtx']\n",
    "left_dist = left_npz_file['dist']\n",
    "left_rvecs = left_npz_file['rvecs']\n",
    "left_tvecs = left_npz_file['tvecs']\n",
    "\n",
    "right_npz_file = np.load(os.path.join(data_root, 'intrinsic_images', right_serial + '_intrinsic_result.npz'))\n",
    "right_mtx = right_npz_file['mtx']\n",
    "right_dist = right_npz_file['dist']\n",
    "right_rvecs = right_npz_file['rvecs']\n",
    "right_tvecs = right_npz_file['tvecs']"
   ]
  },
  {
   "cell_type": "markdown",
   "metadata": {},
   "source": [
    "# LOAD STEREO CALIBRATION IMAGE"
   ]
  },
  {
   "cell_type": "code",
   "execution_count": 16,
   "metadata": {},
   "outputs": [],
   "source": [
    "# load stereo calibration image form directory\n",
    "\n",
    "# /workspace/multiview_calibration/MULTIVIEW/cal_image/extrinsic_images/left_22240382_right_22240376\n",
    "stereo_root = '/workspace/multiview_calibration/MULTIVIEW/cal_image/extrinsic_images/left_22240382_right_22240376'\n",
    "left_image_dir = os.path.join(stereo_root, 'left_'+left_serial)\n",
    "left_image_list = glob.glob(os.path.join(left_image_dir, '*.jpg'))\n",
    "left_image_list.sort()\n",
    "right_image_dir = os.path.join(stereo_root, 'right_'+right_serial)\n",
    "right_image_list = glob.glob(os.path.join(right_image_dir, '*.jpg'))\n",
    "right_image_list.sort()\n",
    "\n",
    "left_basename_list = [os.path.basename(x) for x in left_image_list]\n",
    "right_basename_list = [os.path.basename(x) for x in right_image_list]\n",
    "assert left_basename_list == right_basename_list, 'left and right image list are not matched'"
   ]
  },
  {
   "cell_type": "code",
   "execution_count": 17,
   "metadata": {},
   "outputs": [],
   "source": [
    "# prepare parameters for cv2.stereoCalibrate\n",
    "# prepare object points, image points of left, image points of right and image size\n",
    "# read left, right image from directory\n",
    "\n",
    "rescale_factor = 0.5\n",
    "\n",
    "num_image = len(left_image_list)\n",
    "\n",
    "left_detector = apriltag.Detector()\n",
    "right_detector = apriltag.Detector()\n",
    "\n",
    "april_objpoints = []\n",
    "left_april_imgpoints = []\n",
    "right_april_imgpoints = []\n",
    "april_imagename = []\n",
    "\n",
    "for i in range(num_image):\n",
    "    left_image = cv2.imread(left_image_list[i])\n",
    "    right_image = cv2.imread(right_image_list[i])\n",
    "    # resize image with rescale_factor\n",
    "    left_image_resized = cv2.resize(left_image, None, fx=rescale_factor, fy=rescale_factor)\n",
    "    right_image_resized = cv2.resize(right_image, None, fx=rescale_factor, fy=rescale_factor)\n",
    "    # convert to gray scale\n",
    "    left_image_gray = cv2.cvtColor(left_image_resized, cv2.COLOR_BGR2GRAY)\n",
    "    right_image_gray = cv2.cvtColor(right_image_resized, cv2.COLOR_BGR2GRAY)\n",
    "    # find apriltag\n",
    "    left_result = left_detector.detect(left_image_gray)\n",
    "    right_result = right_detector.detect(right_image_gray)\n",
    "    num_left_tag = len(left_result)\n",
    "    num_right_tag = len(right_result)\n",
    "    assert num_left_tag == num_right_tag==12, 'left and right tag number are not matched or not 12'\n",
    "    # synthesis objpoints and imgpoints\n",
    "    left_imgpoints = []\n",
    "    right_imgpoints = []\n",
    "    apriltag_objp = []\n",
    "\n",
    "    for i_tag in range(len(left_result)):\n",
    "        left_one_tag = left_result[i_tag]\n",
    "        left_one_tag_id = left_one_tag.tag_id\n",
    "        left_one_corners = left_one_tag.corners\n",
    "        left_one_corners /= rescale_factor # rescale corners\n",
    "        left_imgpoints.append(left_one_corners)\n",
    "\n",
    "        right_one_tag = right_result[i_tag]\n",
    "        right_one_tag_id = right_one_tag.tag_id\n",
    "        right_one_corners = right_one_tag.corners\n",
    "        right_one_corners /= rescale_factor # rescale corners\n",
    "        right_imgpoints.append(right_one_corners)\n",
    "\n",
    "        base_one_tag = base_result[left_one_tag_id]\n",
    "        base_one_corners = base_one_tag.corners\n",
    "        apriltag_objp.append(base_one_corners)\n",
    "\n",
    "    # april_imgpt = np.array(april_imgpt)\n",
    "    # april_imgpt = april_imgpt.reshape(-1, 1, 2)\n",
    "    # april_imgpoints.append(april_imgpt.astype(np.float32))\n",
    "    left_imgpoints = np.array(left_imgpoints)\n",
    "    left_imgpoints = left_imgpoints.reshape(-1, 1, 2)\n",
    "    left_imgpoints = left_imgpoints.astype(np.float32)\n",
    "    left_april_imgpoints.append(left_imgpoints)\n",
    "    right_imgpoints = np.array(right_imgpoints)\n",
    "    right_imgpoints = right_imgpoints.reshape(-1, 1, 2)\n",
    "    right_imgpoints = right_imgpoints.astype(np.float32)\n",
    "    right_april_imgpoints.append(right_imgpoints)\n",
    "\n",
    "    apriltag_objp = np.array(apriltag_objp)\n",
    "    apriltag_objp = apriltag_objp.reshape(-1,2)\n",
    "    _zeros = np.zeros([apriltag_objp.shape[0],1])\n",
    "    apriltag_objp = np.concatenate([apriltag_objp, _zeros], axis=1)\n",
    "    apriltag_objp *= 50/(597.00000089 - 27.99999955)\n",
    "    april_objpoints.append(apriltag_objp.astype(np.float32))\n",
    "    april_imagename.append(left_basename_list[i])\n"
   ]
  },
  {
   "cell_type": "code",
   "execution_count": 22,
   "metadata": {},
   "outputs": [
    {
     "data": {
      "text/plain": [
       "(3, 1024, 768)"
      ]
     },
     "execution_count": 22,
     "metadata": {},
     "output_type": "execute_result"
    }
   ],
   "source": [
    "left_image_resized.shape[::-1]"
   ]
  },
  {
   "cell_type": "code",
   "execution_count": 30,
   "metadata": {},
   "outputs": [
    {
     "name": "stdout",
     "output_type": "stream",
     "text": [
      "117\n",
      "(48, 3)\n",
      "117\n",
      "(48, 1, 2)\n",
      "(2048, 1536)\n"
     ]
    }
   ],
   "source": [
    "print(len(april_objpoints))\n",
    "print(april_objpoints[0].shape)\n",
    "\n",
    "print(len(left_april_imgpoints))\n",
    "print(left_april_imgpoints[0].shape)\n",
    "\n",
    "print(left_image.shape[:2][::-1])"
   ]
  },
  {
   "cell_type": "code",
   "execution_count": 39,
   "metadata": {},
   "outputs": [],
   "source": [
    "# randomly sample a subset of april_imgpoints and april_objpoints and april_imagename. no duplicated.\n",
    "num_sample = 40\n",
    "total_num = len(april_objpoints)\n",
    "assert total_num >= num_sample, 'total number of april_imgpoints is less than num_sample'\n",
    "sample_idx = np.random.choice(total_num, num_sample, replace=False)\n",
    "left_april_imgpoints_sampled = [left_april_imgpoints[i] for i in sample_idx]\n",
    "right_april_imgpoints_sampled = [right_april_imgpoints[i] for i in sample_idx]\n",
    "april_objpoints_sampled = [april_objpoints[i] for i in sample_idx]\n",
    "april_imagename_sampled = [april_imagename[i] for i in sample_idx]\n"
   ]
  },
  {
   "cell_type": "code",
   "execution_count": 33,
   "metadata": {},
   "outputs": [],
   "source": [
    "# just intrinsic calibration for debug\n",
    "# left_ret, left_mtx, left_dist, left_rvecs, left_tvecs = cv2.calibrateCamera(april_objpoints, left_april_imgpoints, left_image.shape[:2][::-1], None, None)\n",
    "\n",
    "# 1.5343584670449189\n",
    "# [[2.20554484e+03 0.00000000e+00 9.85254599e+02]\n",
    "#  [0.00000000e+00 2.21890933e+03 7.94500597e+02]\n",
    "#  [0.00000000e+00 0.00000000e+00 1.00000000e+00]]"
   ]
  },
  {
   "cell_type": "code",
   "execution_count": 40,
   "metadata": {},
   "outputs": [
    {
     "name": "stdout",
     "output_type": "stream",
     "text": [
      "2048 1536\n"
     ]
    }
   ],
   "source": [
    "#change this if stereo calibration not good.\n",
    "criteria = (cv2.TERM_CRITERIA_EPS + cv2.TERM_CRITERIA_MAX_ITER, 100, 0.0001)\n",
    "stereocalibration_flags = cv2.CALIB_FIX_INTRINSIC\n",
    "(width, height) = left_image.shape[:2][::-1]\n",
    "print(width, height)"
   ]
  },
  {
   "cell_type": "code",
   "execution_count": 42,
   "metadata": {},
   "outputs": [],
   "source": [
    "ret, CM1, dist1, CM2, dist2, R, T, E, F = cv2.stereoCalibrate(april_objpoints, left_april_imgpoints, right_april_imgpoints, left_mtx, left_dist,\n",
    "                                                                 right_mtx, right_dist, (width, height), criteria = criteria, flags = stereocalibration_flags)"
   ]
  },
  {
   "cell_type": "code",
   "execution_count": 44,
   "metadata": {},
   "outputs": [
    {
     "name": "stdout",
     "output_type": "stream",
     "text": [
      "ret: 3.935681907670002\n",
      "CM1: [[2.20554484e+03 0.00000000e+00 9.85254599e+02]\n",
      " [0.00000000e+00 2.21890933e+03 7.94500597e+02]\n",
      " [0.00000000e+00 0.00000000e+00 1.00000000e+00]]\n",
      "dist1: [[-0.37449826  0.73174348 -0.00593855  0.04171091 -0.8665762 ]]\n",
      "CM2: [[3.57640259e+03 0.00000000e+00 1.00893368e+03]\n",
      " [0.00000000e+00 3.49744438e+03 7.58159866e+02]\n",
      " [0.00000000e+00 0.00000000e+00 1.00000000e+00]]\n",
      "dist2: [[-2.85214781e-01  3.84871039e+00  2.61102481e-03  3.08833036e-03\n",
      "  -2.07304200e+01]]\n",
      "R: [[ 0.97009068 -0.242703    0.00439516]\n",
      " [ 0.24020613  0.96240659  0.12678551]\n",
      " [-0.03500115 -0.1219377   0.99192042]]\n",
      "T: [[-560.97631315]\n",
      " [-174.96642582]\n",
      " [ 304.3080625 ]]\n",
      "E: [[ -66.97263453 -271.53308169 -212.13462433]\n",
      " [ 275.57159809 -142.26064277  557.78134127]\n",
      " [  34.9833517  -582.35217893  -70.35466496]]\n",
      "F: [[-2.05874147e-07 -8.29666424e-07 -5.76232797e-04]\n",
      " [ 8.66232490e-07 -4.44489101e-07  3.36673821e-03]\n",
      " [-6.44267207e-05 -5.18967431e-03  1.00000000e+00]]\n"
     ]
    }
   ],
   "source": [
    "print('ret:', ret)\n",
    "print('CM1:', CM1)\n",
    "print('dist1:', dist1)\n",
    "print('CM2:', CM2)\n",
    "print('dist2:', dist2)\n",
    "print('R:', R)\n",
    "print('T:', T)\n",
    "print('E:', E)\n",
    "print('F:', F)"
   ]
  },
  {
   "cell_type": "code",
   "execution_count": 53,
   "metadata": {},
   "outputs": [],
   "source": [
    "rvec_cam = scipy_R.from_matrix(R).as_rotvec().reshape(3,1)\n",
    "tvec_cam = T.reshape(3,1)\n"
   ]
  },
  {
   "cell_type": "code",
   "execution_count": 64,
   "metadata": {},
   "outputs": [],
   "source": [
    "Tr_origin = calculate_Tr(K_np=None, rvec_np=np.array([.0,.0,.0]), tvec_np=np.array([.0,.0,.0]))\n",
    "Tr_trans = calculate_Tr(K_np=None, rvec_np=rvec_cam, tvec_np=tvec_cam)"
   ]
  },
  {
   "cell_type": "code",
   "execution_count": 66,
   "metadata": {},
   "outputs": [
    {
     "name": "stdout",
     "output_type": "stream",
     "text": [
      "/workspace/multiview_calibration/MULTIVIEW/cal_image/extrinsic_images/left_22240382_right_22240376\n"
     ]
    }
   ],
   "source": [
    "# /workspace/multiview_calibration/MULTIVIEW/cal_image/extrinsic_images/left_22240382_right_22240376\n",
    "extrinsic_Tr_dir = os.path.join(data_root, 'extrinsic_images', 'left_' + left_serial + '_right_' + right_serial)\n",
    "print(extrinsic_Tr_dir)"
   ]
  },
  {
   "cell_type": "code",
   "execution_count": 67,
   "metadata": {},
   "outputs": [],
   "source": [
    "np.save(os.path.join(extrinsic_Tr_dir, 'origin_Tr.npy'), Tr_origin)\n",
    "np.save(os.path.join(extrinsic_Tr_dir, 'left_' + left_serial + '_right_' + right_serial+'_Tr.npy'), Tr_trans)"
   ]
  },
  {
   "cell_type": "code",
   "execution_count": null,
   "metadata": {},
   "outputs": [],
   "source": []
  }
 ],
 "metadata": {
  "interpreter": {
   "hash": "767d51c1340bd893661ea55ea3124f6de3c7a262a8b4abca0554b478b1e2ff90"
  },
  "kernelspec": {
   "display_name": "Python 3.5.2 64-bit",
   "language": "python",
   "name": "python3"
  },
  "language_info": {
   "codemirror_mode": {
    "name": "ipython",
    "version": 3
   },
   "file_extension": ".py",
   "mimetype": "text/x-python",
   "name": "python",
   "nbconvert_exporter": "python",
   "pygments_lexer": "ipython3",
   "version": "3.5.2"
  },
  "orig_nbformat": 4
 },
 "nbformat": 4,
 "nbformat_minor": 2
}
