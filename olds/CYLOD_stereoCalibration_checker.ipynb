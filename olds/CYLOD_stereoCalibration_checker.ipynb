{
 "cells": [
  {
   "cell_type": "code",
   "execution_count": 130,
   "metadata": {
    "pycharm": {
     "name": "#%%\n"
    }
   },
   "outputs": [],
   "source": [
    "# import apriltag\n",
    "import cv2\n",
    "import numpy as np\n",
    "import copy\n",
    "import matplotlib.pyplot as plt\n",
    "import glob\n",
    "import os\n",
    "import time\n",
    "from scipy.optimize import minimize, least_squares\n",
    "from scipy.spatial.transform import Rotation as scipy_R"
   ]
  },
  {
   "cell_type": "code",
   "execution_count": 131,
   "metadata": {
    "pycharm": {
     "name": "#%%\n"
    }
   },
   "outputs": [],
   "source": [
    "%matplotlib inline"
   ]
  },
  {
   "cell_type": "code",
   "execution_count": 132,
   "metadata": {
    "pycharm": {
     "name": "#%%\n"
    }
   },
   "outputs": [],
   "source": [
    "left_serial = '22240376'\n",
    "right_serial = '22206080'\n",
    "\n",
    "# left_serial = '22206080'\n",
    "# right_serial = '22240368'\n",
    "\n",
    "# left_serial = '22240368'\n",
    "# right_serial = '22240389'\n",
    "\n",
    "# left_serial = '22240389'\n",
    "# right_serial = '22222961'\n",
    "\n",
    "# left_serial = '22222961'\n",
    "# right_serial = '22240382' #\n",
    "\n",
    "# left_serial = '22240382'\n",
    "# right_serial = '22240376'\n",
    "\n",
    "\n",
    "# left_top_corners = [[64, 228*2], [0, 228], [64, 0], [64, 100], [64, 228], [64, 288]] # w = 1920 h = 1080\n",
    "serial_number_list = ['22240376', '22206080', '22240368', '22240389', '22222961', '22240382']\n",
    "\n",
    "# lt_left = \n",
    "\n",
    "checker_side_length = 60"
   ]
  },
  {
   "cell_type": "code",
   "execution_count": 133,
   "metadata": {
    "pycharm": {
     "name": "#%%\n"
    }
   },
   "outputs": [],
   "source": [
    "def calculate_Tr(K_np, rvec_np, tvec_np):\n",
    "    _R_cv2bcam = np.array([[1,0,0],\n",
    "                       [0,-1,0],\n",
    "                       [0,0,-1]])\n",
    "    R, _ = cv2.Rodrigues(rvec_np)\n",
    "    # t = tvec_np[_i]/100. #(mm to M)? scale problem exist.\n",
    "    t = tvec_np/100. #(mm to M)? scale problem exist.\n",
    "    # k = first_K_np\n",
    "    R_bcam= np.matmul(_R_cv2bcam, R)\n",
    "    T_bcam = np.matmul(_R_cv2bcam, t)                       \n",
    "    R_world = R_bcam.transpose()\n",
    "    T_world = -np.matmul(R_world, T_bcam)\n",
    "\n",
    "    R_world = R_world.reshape(3,3)\n",
    "    T_world = T_world.reshape(3,1)\n",
    "\n",
    "    Tr = np.identity(4)\n",
    "    Tr[:3,:3] = R_world\n",
    "    Tr[:3,3:] = T_world\n",
    "\n",
    "    return Tr# debugging image is not nessesary, apriltag detection already confirmed."
   ]
  },
  {
   "cell_type": "code",
   "execution_count": null,
   "metadata": {
    "pycharm": {
     "name": "#%%\n"
    }
   },
   "outputs": [],
   "source": []
  },
  {
   "cell_type": "code",
   "execution_count": 134,
   "metadata": {
    "pycharm": {
     "name": "#%%\n"
    }
   },
   "outputs": [],
   "source": [
    "checker_board_size = (9, 10) # (rows, cols)\n",
    "\n",
    "# termination criteria\n",
    "criteria = (cv2.TERM_CRITERIA_EPS + cv2.TERM_CRITERIA_MAX_ITER, 30, 0.001)\n",
    "# prepare object points, like (0,0,0), (1,0,0), (2,0,0) ....,(6,5,0)\n",
    "objp = np.zeros((checker_board_size[0]*checker_board_size[1],3), np.float32)\n",
    "objp[:,:2] = np.mgrid[0:checker_board_size[0],0:checker_board_size[1]].T.reshape(-1,2)\n",
    "# Arrays to store object points and image points from all the images.\n"
   ]
  },
  {
   "cell_type": "code",
   "execution_count": 135,
   "metadata": {
    "pycharm": {
     "name": "#%%\n"
    }
   },
   "outputs": [
    {
     "data": {
      "text/plain": [
       "(90, 3)"
      ]
     },
     "execution_count": 135,
     "metadata": {},
     "output_type": "execute_result"
    }
   ],
   "source": [
    "objp.shape"
   ]
  },
  {
   "cell_type": "markdown",
   "metadata": {
    "pycharm": {
     "name": "#%% md\n"
    }
   },
   "source": [
    "# LOAD INTRINSIC RESULTS"
   ]
  },
  {
   "cell_type": "code",
   "execution_count": 136,
   "metadata": {
    "pycharm": {
     "name": "#%%\n"
    }
   },
   "outputs": [
    {
     "name": "stdout",
     "output_type": "stream",
     "text": [
      "/home/hict/yeonkunlee/MULTIVIEW_CAL_HICT/cal_image/intrinsic_images_checker/22240376_intrinsic_result.npz\n",
      "ret =  0.8821481952934551 0.9254477066411001\n"
     ]
    }
   ],
   "source": [
    "# left_serial = '22222961'\n",
    "# right_serial = '22240382'\n",
    "\n",
    "# left_serial = '22240382'\n",
    "# right_serial = '22240376'\n",
    "\n",
    "# apriltag_one_side_length = 203\n",
    "\n",
    "\n",
    "data_root = '/home/hict/yeonkunlee/MULTIVIEW_CAL_HICT/cal_image'\n",
    "prefix = 'left_' + left_serial + '_right_' + right_serial\n",
    "\n",
    "print(os.path.join(data_root, 'intrinsic_images_checker', left_serial + '_intrinsic_result.npz'))\n",
    "\n",
    "left_npz_file = np.load(os.path.join(data_root, left_serial + '_intrinsic_result.npz'))\n",
    "left_ret = left_npz_file['ret']\n",
    "left_mtx = left_npz_file['mtx']\n",
    "left_dist = left_npz_file['dist']\n",
    "# left_rvecs = left_npz_file['rvecs']\n",
    "# left_tvecs = left_npz_file['tvecs']\n",
    "\n",
    "right_npz_file = np.load(os.path.join(data_root, right_serial + '_intrinsic_result.npz'))\n",
    "right_ret = right_npz_file['ret']\n",
    "right_mtx = right_npz_file['mtx']\n",
    "right_dist = right_npz_file['dist']\n",
    "# right_rvecs = right_npz_file['rvecs']\n",
    "# right_tvecs = right_npz_file['tvecs']\n",
    "\n",
    "print('ret = ', left_ret, right_ret)"
   ]
  },
  {
   "cell_type": "markdown",
   "metadata": {
    "pycharm": {
     "name": "#%% md\n"
    }
   },
   "source": [
    "# LOAD STEREO CALIBRATION IMAGE"
   ]
  },
  {
   "cell_type": "code",
   "execution_count": 137,
   "metadata": {
    "pycharm": {
     "name": "#%%\n"
    }
   },
   "outputs": [],
   "source": [
    "# load stereo calibration image form directory\n",
    "\n",
    "# /workspace/multiview_calibration/MULTIVIEW/cal_image/extrinsic_images/left_22240382_right_22240376\n",
    "stereo_root = os.path.join(data_root, 'extrinsic_images_checker', prefix)\n",
    "\n",
    "left_image_dir = os.path.join(stereo_root, 'left_'+left_serial)\n",
    "left_image_list = glob.glob(os.path.join(left_image_dir, '*.png'))\n",
    "left_image_list.sort()\n",
    "right_image_dir = os.path.join(stereo_root, 'right_'+right_serial)\n",
    "right_image_list = glob.glob(os.path.join(right_image_dir, '*.png'))\n",
    "right_image_list.sort()\n",
    "\n",
    "left_basename_list = [os.path.basename(x) for x in left_image_list]\n",
    "right_basename_list = [os.path.basename(x) for x in right_image_list]\n",
    "assert left_basename_list == right_basename_list, 'left and right image list are not matched'\n",
    "assert len(left_basename_list) > 0, 'at least one image is needed'"
   ]
  },
  {
   "cell_type": "code",
   "execution_count": 138,
   "metadata": {
    "pycharm": {
     "name": "#%%\n"
    }
   },
   "outputs": [
    {
     "data": {
      "text/plain": [
       "39"
      ]
     },
     "execution_count": 138,
     "metadata": {},
     "output_type": "execute_result"
    }
   ],
   "source": [
    "len(left_basename_list)"
   ]
  },
  {
   "cell_type": "code",
   "execution_count": 139,
   "metadata": {
    "pycharm": {
     "name": "#%%\n"
    }
   },
   "outputs": [
    {
     "name": "stdout",
     "output_type": "stream",
     "text": [
      "total num_image: 39\n",
      "processed image number: 33\n"
     ]
    }
   ],
   "source": [
    "# prepare parameters for cv2.stereoCalibrate\n",
    "# prepare object points, image points of left, image points of right and image size\n",
    "# read left, right image from directory\n",
    "\n",
    "vis_factor = 0.5\n",
    "\n",
    "num_image = len(left_image_list)\n",
    "print('total num_image:', num_image)\n",
    "\n",
    "april_objpoints = []\n",
    "left_april_imgpoints = []\n",
    "right_april_imgpoints = []\n",
    "april_imagename = []\n",
    "\n",
    "processing_counter = 0\n",
    "\n",
    "for i in range(num_image):\n",
    "    left_image = cv2.imread(left_image_list[i])\n",
    "    right_image = cv2.imread(right_image_list[i])\n",
    "\n",
    "    left_image_gray = cv2.cvtColor(left_image, cv2.COLOR_BGR2GRAY)\n",
    "    right_image_gray = cv2.cvtColor(right_image, cv2.COLOR_BGR2GRAY)\n",
    "    # find checker board\n",
    "    left_success, left_corners = cv2.findChessboardCorners(left_image_gray, checker_board_size, None)\n",
    "    right_success, right_corners = cv2.findChessboardCorners(right_image_gray, checker_board_size, None)\n",
    "\n",
    "\n",
    "    if left_success and right_success:\n",
    "        processing_counter += 1\n",
    "    else:\n",
    "        continue\n",
    "\n",
    "    left_corners = np.array(left_corners)\n",
    "    left_imgpoints = left_corners.reshape(-1, 1, 2)\n",
    "    left_imgpoints = left_imgpoints.astype(np.float32)\n",
    "    left_april_imgpoints.append(left_imgpoints)\n",
    "    right_corners = np.array(right_corners)\n",
    "    right_imgpoints = right_corners.reshape(-1, 1, 2)\n",
    "    right_imgpoints = right_imgpoints.astype(np.float32)\n",
    "    right_april_imgpoints.append(right_imgpoints)\n",
    "\n",
    "    apriltag_objp = np.array(objp)\n",
    "    apriltag_objp *= checker_side_length\n",
    "    april_objpoints.append(apriltag_objp.astype(np.float32))\n",
    "    april_imagename.append([left_image_list[i], right_image_list[i]])\n",
    "\n",
    "print('processed image number:', processing_counter)"
   ]
  },
  {
   "cell_type": "code",
   "execution_count": 140,
   "metadata": {
    "pycharm": {
     "name": "#%%\n"
    }
   },
   "outputs": [
    {
     "name": "stdout",
     "output_type": "stream",
     "text": [
      "/home/hict/yeonkunlee/MULTIVIEW_CAL_HICT/cal_image/extrinsic_images_checker/left_22240376_right_22206080/calibration_data.npz\n"
     ]
    }
   ],
   "source": [
    "# save objpoints, imgpoints to file\n",
    "save_dir = os.path.join(stereo_root, 'calibration_data.npz')\n",
    "print(save_dir)\n",
    "np.savez(save_dir, april_objpoints=april_objpoints, left_april_imgpoints=left_april_imgpoints, right_april_imgpoints=right_april_imgpoints, april_imagename=april_imagename)"
   ]
  },
  {
   "cell_type": "code",
   "execution_count": 141,
   "metadata": {
    "pycharm": {
     "name": "#%%\n"
    }
   },
   "outputs": [],
   "source": [
    "# # randomly sample a subset of april_imgpoints and april_objpoints and april_imagename. no duplicated.\n",
    "# # num_sample = processing_counter # just use all images for now.\n",
    "# num_sample = processing_counter\n",
    "# total_num = len(april_objpoints)\n",
    "# assert total_num >= num_sample, 'total number of april_imgpoints is less than num_sample'\n",
    "# sample_idx = np.random.choice(total_num, num_sample, replace=False)\n",
    "# left_april_imgpoints_sampled = [left_april_imgpoints[i] for i in sample_idx]\n",
    "# right_april_imgpoints_sampled = [right_april_imgpoints[i] for i in sample_idx]\n",
    "# april_objpoints_sampled = [april_objpoints[i] for i in sample_idx]\n",
    "# april_imagename_sampled = [april_imagename[i] for i in sample_idx]\n"
   ]
  },
  {
   "cell_type": "code",
   "execution_count": 142,
   "metadata": {
    "pycharm": {
     "name": "#%%\n"
    }
   },
   "outputs": [],
   "source": [
    "# # just intrinsic calibration for debug\n",
    "# left_ret, left_mtx, left_dist, left_rvecs, left_tvecs = cv2.calibrateCamera(april_objpoints, left_april_imgpoints, left_image.shape[:2][::-1], None, None)\n",
    "# right_ret, right_mtx, right_dist, right_rvecs, right_tvecs = cv2.calibrateCamera(april_objpoints, right_april_imgpoints, right_image.shape[:2][::-1], None, None)\n",
    "# # 1.5343584670449189\n",
    "# # [[2.20554484e+03 0.00000000e+00 9.85254599e+02]\n",
    "# #  [0.00000000e+00 2.21890933e+03 7.94500597e+02]\n",
    "# #  [0.00000000e+00 0.00000000e+00 1.00000000e+00]]"
   ]
  },
  {
   "cell_type": "code",
   "execution_count": 143,
   "metadata": {
    "pycharm": {
     "name": "#%%\n"
    }
   },
   "outputs": [
    {
     "name": "stdout",
     "output_type": "stream",
     "text": [
      "0.8821481952934551\n",
      "0.9254477066411001\n"
     ]
    }
   ],
   "source": [
    "print(left_ret)\n",
    "print(right_ret)"
   ]
  },
  {
   "cell_type": "code",
   "execution_count": 144,
   "metadata": {
    "pycharm": {
     "name": "#%%\n"
    }
   },
   "outputs": [],
   "source": [
    "# np.savez(os.path.join(data_root, left_serial + '_intrinsic_result.npz'), ret=left_ret, mtx=left_mtx, dist=left_dist, rvecs=left_rvecs, tvecs=left_tvecs)\n",
    "# # np.savez(os.path.join(data_root, right_serial + '_intrinsic_result.npz'), ret=right_ret, mtx=right_mtx, dist=right_dist, rvecs=right_rvecs, tvecs=right_tvecs)"
   ]
  },
  {
   "cell_type": "code",
   "execution_count": 145,
   "metadata": {
    "pycharm": {
     "name": "#%%\n"
    }
   },
   "outputs": [
    {
     "name": "stdout",
     "output_type": "stream",
     "text": [
      "1920 1080\n"
     ]
    }
   ],
   "source": [
    "#change this if stereo calibration not good.\n",
    "criteria = (cv2.TERM_CRITERIA_EPS + cv2.TERM_CRITERIA_MAX_ITER, 100, 0.0001)\n",
    "stereocalibration_flags = cv2.CALIB_FIX_INTRINSIC\n",
    "(width, height) = left_image.shape[:2][::-1]\n",
    "print(width, height)"
   ]
  },
  {
   "cell_type": "code",
   "execution_count": 146,
   "metadata": {
    "pycharm": {
     "name": "#%%\n"
    }
   },
   "outputs": [],
   "source": [
    "ret, CM1, dist1, CM2, dist2, R, T, E, F = cv2.stereoCalibrate(april_objpoints, left_april_imgpoints, right_april_imgpoints, left_mtx, left_dist,\n",
    "                                                                 right_mtx, right_dist, (width, height), criteria = criteria, flags = stereocalibration_flags)"
   ]
  },
  {
   "cell_type": "code",
   "execution_count": 147,
   "metadata": {
    "pycharm": {
     "name": "#%%\n"
    }
   },
   "outputs": [
    {
     "name": "stdout",
     "output_type": "stream",
     "text": [
      "ret: 0.7622786904053827\n",
      "CM1: [[1.06067353e+03 0.00000000e+00 9.53566123e+02]\n",
      " [0.00000000e+00 1.05945771e+03 5.48194101e+02]\n",
      " [0.00000000e+00 0.00000000e+00 1.00000000e+00]]\n",
      "dist1: [[-0.04766772  0.11490369  0.001382    0.00096083 -0.05987259]]\n",
      "CM2: [[1.05280920e+03 0.00000000e+00 9.37978538e+02]\n",
      " [0.00000000e+00 1.05053001e+03 5.79589049e+02]\n",
      " [0.00000000e+00 0.00000000e+00 1.00000000e+00]]\n",
      "dist2: [[-0.05928633  0.1401007   0.00189698  0.00073395 -0.0787084 ]]\n",
      "R: [[ 0.12078356 -0.63190183  0.76557914]\n",
      " [ 0.68047661  0.61421672  0.39961157]\n",
      " [-0.72274679  0.47269219  0.50418169]]\n",
      "T: [[-3609.4258905 ]\n",
      " [-1817.67844049]\n",
      " [ 2095.13830556]]\n",
      "E: [[ -111.97135313 -2146.07137469 -1753.68169953]\n",
      " [-2355.64270864   382.2256961   3423.80062575]\n",
      " [-2236.58421668 -3365.56405692   -50.79165786]]\n",
      "F: [[-8.10894131e-08 -1.55596384e-06 -4.16774348e-04]\n",
      " [-1.70965256e-06  2.77725928e-07  4.11367451e-03]\n",
      " [-6.38310075e-04 -1.27049893e-03  1.00000000e+00]]\n"
     ]
    }
   ],
   "source": [
    "print('ret:', ret)\n",
    "print('CM1:', CM1)\n",
    "print('dist1:', dist1)\n",
    "print('CM2:', CM2)\n",
    "print('dist2:', dist2)\n",
    "print('R:', R)\n",
    "print('T:', T)\n",
    "print('E:', E)\n",
    "print('F:', F)"
   ]
  },
  {
   "cell_type": "code",
   "execution_count": 148,
   "metadata": {
    "pycharm": {
     "name": "#%%\n"
    }
   },
   "outputs": [
    {
     "data": {
      "text/plain": [
       "'/home/hict/yeonkunlee/MULTIVIEW_CAL_HICT/cal_image/extrinsic_images_checker/left_22240376_right_22206080'"
      ]
     },
     "execution_count": 148,
     "metadata": {},
     "output_type": "execute_result"
    }
   ],
   "source": [
    "stereo_root"
   ]
  },
  {
   "cell_type": "code",
   "execution_count": 149,
   "metadata": {
    "pycharm": {
     "name": "#%%\n"
    }
   },
   "outputs": [],
   "source": [
    "rvec_cam = scipy_R.from_matrix(R).as_rotvec().reshape(3,1)\n",
    "tvec_cam = T.reshape(3,1)\n",
    "np.save(os.path.join(stereo_root, 'left_' + left_serial + '_right_' + right_serial+'_rvec.npy'), rvec_cam)\n",
    "np.save(os.path.join(stereo_root, 'left_' + left_serial + '_right_' + right_serial+'_tvec.npy'), tvec_cam)"
   ]
  },
  {
   "cell_type": "code",
   "execution_count": null,
   "metadata": {
    "pycharm": {
     "name": "#%%\n"
    }
   },
   "outputs": [],
   "source": []
  },
  {
   "cell_type": "code",
   "execution_count": null,
   "metadata": {
    "pycharm": {
     "name": "#%%\n"
    }
   },
   "outputs": [],
   "source": []
  },
  {
   "cell_type": "code",
   "execution_count": null,
   "metadata": {
    "pycharm": {
     "name": "#%%\n"
    }
   },
   "outputs": [],
   "source": []
  },
  {
   "cell_type": "code",
   "execution_count": 150,
   "metadata": {
    "pycharm": {
     "name": "#%%\n"
    }
   },
   "outputs": [],
   "source": [
    "def distance_calculator(_rvec_cam_left, _tvec_cam_left, _rvec_cam_right, _tvec_cam_right, _april_objpoints, _left_april_imgpoints, _right_april_imgpoints, _left_mtx, _left_dist, _right_mtx, _right_dist):\n",
    "    distance_holder = []\n",
    "    for i in range(len(_april_objpoints)):\n",
    "        left_success, left_rvec, left_tvec = cv2.solvePnP(_april_objpoints[i], _left_april_imgpoints[i], _left_mtx, _left_dist, 0)\n",
    "        left_R = cv2.Rodrigues(left_rvec)[0]\n",
    "        right_success, right_rvec, right_tvec = cv2.solvePnP(_april_objpoints[i], _right_april_imgpoints[i], _right_mtx, _right_dist, 0)\n",
    "        right_R = cv2.Rodrigues(right_rvec)[0]\n",
    "\n",
    "        # left_detected_imgpoints = _left_april_imgpoints[i].reshape(-1, 2)\n",
    "        # right_detected_imgpoints = _right_april_imgpoints[i].reshape(-1, 2)\n",
    "\n",
    "        left_object_points = (left_R.dot(_april_objpoints[i].T) + left_tvec).T # N, 3\n",
    "        right_object_points = (right_R.dot(_april_objpoints[i].T) + right_tvec).T # N, 3\n",
    "\n",
    "        R_cam_left = cv2.Rodrigues(_rvec_cam_left)[0]\n",
    "        left_object_points = R_cam_left.T.dot(left_object_points.T - _tvec_cam_left).T\n",
    "\n",
    "        R_cam_right = cv2.Rodrigues(_rvec_cam_right)[0]\n",
    "        right_object_points = R_cam_right.T.dot(right_object_points.T - _tvec_cam_right).T\n",
    "\n",
    "        assert left_object_points.shape == right_object_points.shape\n",
    "\n",
    "        distance = np.mean(np.linalg.norm(left_object_points - right_object_points, axis=1))\n",
    "\n",
    "        distance_holder.append(distance)\n",
    "    return np.mean(distance_holder)"
   ]
  },
  {
   "cell_type": "code",
   "execution_count": 151,
   "metadata": {
    "pycharm": {
     "name": "#%%\n"
    }
   },
   "outputs": [],
   "source": [
    "# sample_i = 5\n",
    "# one_left_imagename, one_right_imagename = april_imagename[sample_i]\n",
    "# print(one_left_imagename)\n",
    "# one_april_objpoints = april_objpoints[sample_i]\n",
    "# print(one_april_objpoints.shape)\n",
    "\n",
    "# one_left_april_imgpoints = left_april_imgpoints[sample_i]\n",
    "# one_right_april_imgpoints = right_april_imgpoints[sample_i]\n",
    "\n",
    "# left_image = cv2.imread(one_left_imagename)\n",
    "# right_image = cv2.imread(one_right_imagename)\n",
    "\n",
    "# # project 3D points to 2D points\n",
    "# # left_imgpoints = cv2.projectPoints(one_april_objpoints, np.zeros([3,1]), np.zeros([3,1]), left_mtx, left_dist)\n",
    "# # right_imgpoints = cv2.projectPoints(one_april_objpoints, rvec_cam, tvec_cam, right_mtx, right_dist)\n"
   ]
  },
  {
   "cell_type": "code",
   "execution_count": 152,
   "metadata": {
    "pycharm": {
     "name": "#%%\n"
    }
   },
   "outputs": [
    {
     "data": {
      "text/plain": [
       "11.151263668386212"
      ]
     },
     "execution_count": 152,
     "metadata": {},
     "output_type": "execute_result"
    }
   ],
   "source": [
    "distance_calculator(np.zeros([3,1]), np.zeros([3,1]), rvec_cam, tvec_cam, april_objpoints, left_april_imgpoints, right_april_imgpoints, left_mtx, left_dist, right_mtx, right_dist)"
   ]
  },
  {
   "cell_type": "code",
   "execution_count": 153,
   "metadata": {
    "pycharm": {
     "name": "#%%\n"
    }
   },
   "outputs": [],
   "source": [
    "# 19.8\n",
    "# 15.7\n",
    "# 21.2\n",
    "# 27.6\n",
    "# 25.8\n",
    "# 12.04"
   ]
  },
  {
   "cell_type": "code",
   "execution_count": null,
   "metadata": {
    "pycharm": {
     "name": "#%%\n"
    }
   },
   "outputs": [],
   "source": []
  }
 ],
 "metadata": {
  "kernelspec": {
   "display_name": "Python 3.8.13 ('python3.8')",
   "language": "python",
   "name": "python3"
  },
  "language_info": {
   "codemirror_mode": {
    "name": "ipython",
    "version": 3
   },
   "file_extension": ".py",
   "mimetype": "text/x-python",
   "name": "python",
   "nbconvert_exporter": "python",
   "pygments_lexer": "ipython3",
   "version": "3.8.13"
  },
  "orig_nbformat": 4,
  "vscode": {
   "interpreter": {
    "hash": "dcd89d184aac75f2c5e0ec4a952b4d32bf2de8352291d56355ae68b46be0d098"
   }
  }
 },
 "nbformat": 4,
 "nbformat_minor": 2
}