{
 "cells": [
  {
   "cell_type": "code",
   "execution_count": 51,
   "metadata": {
    "pycharm": {
     "name": "#%%\n"
    }
   },
   "outputs": [],
   "source": [
    "# import apriltag\n",
    "import cv2\n",
    "import numpy as np\n",
    "import copy\n",
    "import matplotlib.pyplot as plt\n",
    "import glob\n",
    "from scipy.optimize import minimize, least_squares\n",
    "from scipy.spatial.transform import Rotation as scipy_R\n",
    "import random\n",
    "import os"
   ]
  },
  {
   "cell_type": "code",
   "execution_count": 52,
   "metadata": {
    "pycharm": {
     "name": "#%%\n"
    }
   },
   "outputs": [],
   "source": [
    "%matplotlib inline"
   ]
  },
  {
   "cell_type": "markdown",
   "metadata": {
    "pycharm": {
     "name": "#%% md\n"
    }
   },
   "source": [
    "# APRILTAG CORNER DEBUG IMAGE GENERATION"
   ]
  },
  {
   "cell_type": "code",
   "execution_count": 83,
   "metadata": {
    "pycharm": {
     "name": "#%%\n"
    }
   },
   "outputs": [
    {
     "name": "stdout",
     "output_type": "stream",
     "text": [
      "92\n"
     ]
    }
   ],
   "source": [
    "serial_number = '22240376'\n",
    "serial_number = '22206080'\n",
    "serial_number = '22240368'\n",
    "serial_number = '22240389'\n",
    "serial_number = '22222961'\n",
    "serial_number = '22240382'\n",
    "\n",
    "checker_board_size = (9, 10) # (rows, cols)\n",
    "\n",
    "# apriltag_one_side_length = 48.3\n",
    "\n",
    "render_debug = True\n",
    "\n",
    "data_root = '/home/hict/yeonkunlee/MULTIVIEW_CAL_HICT/cal_image/intrinsic_images_checker'\n",
    "debug_dir = os.path.join(data_root, serial_number + '_intrinsic_debug')\n",
    "\n",
    "# detector = apriltag.Detector()\n",
    "\n",
    "if not os.path.exists(debug_dir):\n",
    "    os.makedirs(debug_dir)\n",
    "\n",
    "images = glob.glob(os.path.join(data_root, serial_number, '*.png'))\n",
    "images.sort()\n",
    "\n",
    "print(len(images))\n",
    "\n",
    "frame = 0\n",
    "# detector rescale factor is, for preventing apriltag error. apriltag error is caused by the detector's high resolution.\n",
    "vis_rescale = 0.5\n",
    "\n",
    "for fname in images:\n",
    "    img = cv2.imread(fname)\n",
    "    # result = detector.detect(img)\n",
    "    # find checkerboard\n",
    "    success, corners = cv2.findChessboardCorners(cv2.cvtColor(img, cv2.COLOR_BGR2GRAY), checker_board_size, flags=cv2.CALIB_CB_FAST_CHECK)\n",
    "\n",
    "    if success:\n",
    "        cv2.drawChessboardCorners(img, checker_board_size, corners, success)\n",
    "\n",
    "    img_plot = cv2.resize(img, (0,0), fx=vis_rescale, fy=vis_rescale)\n",
    "    \n",
    "    if render_debug:\n",
    "        cv2.imwrite(os.path.join(debug_dir,'%04d.jpg'%frame), img_plot)\n",
    "        frame += 1\n",
    "    "
   ]
  },
  {
   "cell_type": "code",
   "execution_count": null,
   "metadata": {
    "pycharm": {
     "name": "#%%\n"
    }
   },
   "outputs": [],
   "source": []
  },
  {
   "cell_type": "markdown",
   "metadata": {
    "pycharm": {
     "name": "#%% md\n"
    }
   },
   "source": [
    "# INTRINSIC_CAL"
   ]
  },
  {
   "cell_type": "code",
   "execution_count": 84,
   "metadata": {
    "pycharm": {
     "name": "#%%\n"
    }
   },
   "outputs": [],
   "source": [
    "# termination criteria\n",
    "criteria = (cv2.TERM_CRITERIA_EPS + cv2.TERM_CRITERIA_MAX_ITER, 30, 0.001)\n",
    "# prepare object points, like (0,0,0), (1,0,0), (2,0,0) ....,(6,5,0)\n",
    "objp = np.zeros((checker_board_size[0]*checker_board_size[1],3), np.float32)\n",
    "objp[:,:2] = np.mgrid[0:checker_board_size[0],0:checker_board_size[1]].T.reshape(-1,2)\n",
    "# Arrays to store object points and image points from all the images.\n",
    "objpoints = [] # 3d point in real world space\n",
    "imgpoints = [] # 2d points in image plane."
   ]
  },
  {
   "cell_type": "code",
   "execution_count": 85,
   "metadata": {
    "pycharm": {
     "name": "#%%\n"
    }
   },
   "outputs": [
    {
     "name": "stdout",
     "output_type": "stream",
     "text": [
      "success_count: 92\n",
      "total images: 92\n"
     ]
    }
   ],
   "source": [
    "success_count = 0\n",
    "\n",
    "for fname in images:\n",
    "    img = cv2.imread(fname)\n",
    "    img_gray = cv2.cvtColor(img, cv2.COLOR_BGR2GRAY)\n",
    "    # result = detector.detect(img)\n",
    "    # find checkerboard\n",
    "    success, corners = cv2.findChessboardCorners(img_gray, checker_board_size, flags=cv2.CALIB_CB_FAST_CHECK)\n",
    "\n",
    "    if success:\n",
    "        objpoints.append(objp)\n",
    "        imgpoints.append(corners)\n",
    "        success_count += 1\n",
    "\n",
    "print('success_count:', success_count)\n",
    "print('total images:', len(images))"
   ]
  },
  {
   "cell_type": "code",
   "execution_count": 86,
   "metadata": {
    "pycharm": {
     "name": "#%%\n"
    }
   },
   "outputs": [],
   "source": [
    "ret, mtx, dist, rvecs, tvecs = cv2.calibrateCamera(objpoints, imgpoints, img_gray.shape[::-1], None, None)"
   ]
  },
  {
   "cell_type": "code",
   "execution_count": 87,
   "metadata": {
    "pycharm": {
     "name": "#%%\n"
    }
   },
   "outputs": [
    {
     "name": "stdout",
     "output_type": "stream",
     "text": [
      "ret: 0.9717480415469572\n",
      "mtx: [[1.04768481e+03 0.00000000e+00 9.74139966e+02]\n",
      " [0.00000000e+00 1.04668180e+03 5.49169554e+02]\n",
      " [0.00000000e+00 0.00000000e+00 1.00000000e+00]]\n",
      "dist: [[-0.06147392  0.12850172  0.00191466  0.00038944 -0.06670741]]\n"
     ]
    }
   ],
   "source": [
    "print('ret:', ret)\n",
    "print('mtx:', mtx)\n",
    "print('dist:', dist)"
   ]
  },
  {
   "cell_type": "code",
   "execution_count": 88,
   "metadata": {
    "pycharm": {
     "name": "#%%\n"
    }
   },
   "outputs": [],
   "source": [
    "# save npz\n",
    "np.savez(os.path.join('/home/hict/yeonkunlee/MULTIVIEW_CAL_HICT/cal_image', serial_number + '_intrinsic_result.npz'), ret=ret, mtx=mtx, dist=dist)"
   ]
  },
  {
   "cell_type": "code",
   "execution_count": null,
   "metadata": {
    "pycharm": {
     "name": "#%%\n"
    }
   },
   "outputs": [],
   "source": []
  },
  {
   "cell_type": "code",
   "execution_count": null,
   "metadata": {
    "pycharm": {
     "name": "#%%\n"
    }
   },
   "outputs": [],
   "source": []
  },
  {
   "cell_type": "code",
   "execution_count": null,
   "metadata": {
    "pycharm": {
     "name": "#%%\n"
    }
   },
   "outputs": [],
   "source": []
  }
 ],
 "metadata": {
  "kernelspec": {
   "display_name": "Python 3.8.13 ('python3.8')",
   "language": "python",
   "name": "python3"
  },
  "language_info": {
   "codemirror_mode": {
    "name": "ipython",
    "version": 3
   },
   "file_extension": ".py",
   "mimetype": "text/x-python",
   "name": "python",
   "nbconvert_exporter": "python",
   "pygments_lexer": "ipython3",
   "version": "3.8.13"
  },
  "vscode": {
   "interpreter": {
    "hash": "dcd89d184aac75f2c5e0ec4a952b4d32bf2de8352291d56355ae68b46be0d098"
   }
  }
 },
 "nbformat": 4,
 "nbformat_minor": 2
}