{
 "cells": [
  {
   "cell_type": "code",
   "execution_count": 1,
   "metadata": {
    "pycharm": {
     "name": "#%%\n"
    }
   },
   "outputs": [],
   "source": [
    "# !git clone https://github.com/Edwinem/ceres_python_bindings"
   ]
  },
  {
   "cell_type": "code",
   "execution_count": 2,
   "metadata": {
    "pycharm": {
     "name": "#%%\n"
    }
   },
   "outputs": [
    {
     "name": "stdout",
     "output_type": "stream",
     "text": [
      "/workspace/multiview_calibration/MULTIVIEW/ceres_python_bindings\n"
     ]
    }
   ],
   "source": [
    "%cd ceres_python_bindings"
   ]
  },
  {
   "cell_type": "code",
   "execution_count": 3,
   "metadata": {
    "pycharm": {
     "name": "#%%\n"
    }
   },
   "outputs": [],
   "source": [
    "# !git submodule init"
   ]
  },
  {
   "cell_type": "code",
   "execution_count": 4,
   "metadata": {
    "pycharm": {
     "name": "#%%\n"
    }
   },
   "outputs": [],
   "source": [
    "# !git submodule update"
   ]
  },
  {
   "cell_type": "code",
   "execution_count": null,
   "metadata": {
    "pycharm": {
     "name": "#%%\n"
    }
   },
   "outputs": [],
   "source": []
  },
  {
   "cell_type": "code",
   "execution_count": null,
   "metadata": {
    "pycharm": {
     "name": "#%%\n"
    }
   },
   "outputs": [],
   "source": []
  },
  {
   "cell_type": "code",
   "execution_count": null,
   "metadata": {
    "pycharm": {
     "name": "#%%\n"
    }
   },
   "outputs": [],
   "source": []
  },
  {
   "cell_type": "code",
   "execution_count": null,
   "metadata": {
    "pycharm": {
     "name": "#%%\n"
    }
   },
   "outputs": [],
   "source": []
  },
  {
   "cell_type": "code",
   "execution_count": null,
   "metadata": {
    "pycharm": {
     "name": "#%%\n"
    }
   },
   "outputs": [],
   "source": []
  },
  {
   "cell_type": "code",
   "execution_count": null,
   "metadata": {
    "pycharm": {
     "name": "#%%\n"
    }
   },
   "outputs": [],
   "source": []
  },
  {
   "cell_type": "code",
   "execution_count": null,
   "metadata": {
    "pycharm": {
     "name": "#%%\n"
    }
   },
   "outputs": [],
   "source": []
  },
  {
   "cell_type": "code",
   "execution_count": null,
   "metadata": {
    "pycharm": {
     "name": "#%%\n"
    }
   },
   "outputs": [],
   "source": []
  },
  {
   "cell_type": "code",
   "execution_count": 4,
   "metadata": {
    "pycharm": {
     "name": "#%%\n"
    }
   },
   "outputs": [
    {
     "ename": "ImportError",
     "evalue": "No module named 'PyCeres'",
     "output_type": "error",
     "traceback": [
      "\u001B[0;31m---------------------------------------------------------------------------\u001B[0m",
      "\u001B[0;31mImportError\u001B[0m                               Traceback (most recent call last)",
      "\u001B[0;32m<ipython-input-4-bfefc9312af5>\u001B[0m in \u001B[0;36m<module>\u001B[0;34m()\u001B[0m\n\u001B[0;32m----> 1\u001B[0;31m \u001B[0;32mimport\u001B[0m \u001B[0mPyCeres\u001B[0m \u001B[0;32mas\u001B[0m \u001B[0mceres\u001B[0m\u001B[0;34m\u001B[0m\u001B[0m\n\u001B[0m\u001B[1;32m      2\u001B[0m \u001B[0;32mimport\u001B[0m \u001B[0mnumpy\u001B[0m \u001B[0;32mas\u001B[0m \u001B[0mnp\u001B[0m\u001B[0;34m\u001B[0m\u001B[0m\n\u001B[1;32m      3\u001B[0m \u001B[0;34m\u001B[0m\u001B[0m\n\u001B[1;32m      4\u001B[0m \u001B[0;31m##\u001B[0m\u001B[0;34m\u001B[0m\u001B[0;34m\u001B[0m\u001B[0m\n\u001B[1;32m      5\u001B[0m \u001B[0;31m# 1D SLAM with range measurements\u001B[0m\u001B[0;34m\u001B[0m\u001B[0;34m\u001B[0m\u001B[0m\n",
      "\u001B[0;31mImportError\u001B[0m: No module named 'PyCeres'"
     ]
    }
   ],
   "source": [
    "import PyCeres as ceres\n",
    "import numpy as np\n",
    "\n",
    "##\n",
    "# 1D SLAM with range measurements\n",
    "##\n",
    "\n",
    "# \"Between Factor\" for 1D transform measurement"
   ]
  },
  {
   "cell_type": "code",
   "execution_count": null,
   "metadata": {
    "pycharm": {
     "name": "#%%\n"
    }
   },
   "outputs": [],
   "source": [
    "\n",
    "class Transform1DFactor(ceres.CostFunction):\n",
    "    # factor initialized with a measurement and an associated variance\n",
    "    def __init__(self, z, var):\n",
    "        super().__init__()\n",
    "        # set size of residuals and parameters\n",
    "        self.set_num_residuals(1)\n",
    "        self.set_parameter_block_sizes([1,1])\n",
    "        # set internal factor variables\n",
    "        self.transform = z\n",
    "        self.var = var\n",
    "\n",
    "    # computes the residual and jacobian from the factor and connected state edges\n",
    "    def Evaluate(self, parameters, residuals, jacobians):\n",
    "        # measurement residual compares estimated vs measured transform, scaled by\n",
    "        # measurement belief\n",
    "        xi = parameters[0][0]\n",
    "        xj = parameters[1][0]\n",
    "        residuals[0] = (self.transform - (xj - xi)) / self.var\n",
    "\n",
    "        # jacobian of the residual w.r.t. the parameters\n",
    "        if jacobians != None:\n",
    "            if jacobians[0] != None:\n",
    "                jacobians[0][0] = 1.0 / self.var\n",
    "            if jacobians[1] != None:\n",
    "                jacobians[1][0] = -1.0 / self.var\n",
    "\n",
    "        return True\n",
    "\n",
    "class Range1DFactor(ceres.CostFunction):\n",
    "    def __init__(self, z, var):\n",
    "        super().__init__()\n",
    "        self.set_num_residuals(1)\n",
    "        self.set_parameter_block_sizes([1,1])\n",
    "        self.range = z\n",
    "        self.var = var\n",
    "\n",
    "    def Evaluate(self, parameters, residuals, jacobians):\n",
    "        # measurement residual compares estimated vs measured distance to a\n",
    "        # specific landmark, scaled by measurement belief\n",
    "        l = parameters[0][0]\n",
    "        x = parameters[1][0]\n",
    "        residuals[0] = (self.range - (l - x)) / self.var\n",
    "\n",
    "        if jacobians != None:\n",
    "            if jacobians[0] != None:\n",
    "                jacobians[0][0] = -1.0 / self.var\n",
    "            if jacobians[1] != None:\n",
    "                jacobians[1][0] = 1.0 / self.var\n",
    "\n",
    "        return True\n",
    "\n",
    "# optimization problem\n",
    "problem = ceres.Problem()\n",
    "\n",
    "# true state positions\n",
    "x = np.array([0., 1., 2., 3., 4., 5., 6., 7.]) \n",
    "# true landmark positions\n",
    "l = np.array([10., 15., 13.])\n",
    "\n",
    "# faulty landmark position beliefs\n",
    "lhat = np.array([11., 12., 15.])\n",
    "\n",
    "# simulate noisy 1D state estimates and landmark measurements that will\n",
    "# be added to the problem as factors\n",
    "xhat = np.array([0., 0., 0., 0., 0., 0., 0., 0.])\n",
    "mu, sigma = 0.0, 1.0 # for normal distribution scalable by variance\n",
    "Tvar = 1.0e-3 # variance of transform measurement noise\n",
    "rvar = 1.0e-5 # variance of range measurement noise\n",
    "for i in range(x.size):\n",
    "    if i > 0:\n",
    "        # measured relative transform in 1D \n",
    "        That = x[i] - x[i-1] + np.random.normal(mu, sigma, 1).item() * np.sqrt(Tvar)\n",
    "        # propagate frontend state estimate\n",
    "        xhat[i] = xhat[i-1] + That\n",
    "        # add between factor to problem\n",
    "        problem.AddResidualBlock(Transform1DFactor(That, Tvar), None, xhat[i-1:i], xhat[i:i+1])\n",
    "\n",
    "    for j in range(l.size):\n",
    "        # measured range from robot pose i to landmark j\n",
    "        zbar = l[j] - x[i] + np.random.normal(mu, sigma, 1).item() * np.sqrt(rvar)\n",
    "        # add range factor to problem\n",
    "        problem.AddResidualBlock(Range1DFactor(zbar, rvar), None, lhat[j:j+1], xhat[i:i+1])\n",
    "\n",
    "# initial error, for reference\n",
    "init_error = np.linalg.norm(x - xhat) + np.linalg.norm(l - lhat)\n",
    "\n",
    "# set solver options\n",
    "options = ceres.SolverOptions()\n",
    "options.max_num_iterations = 25\n",
    "options.linear_solver_type = ceres.LinearSolverType.DENSE_QR\n",
    "options.minimizer_progress_to_stdout = True\n",
    "\n",
    "# solve!\n",
    "summary = ceres.Summary()\n",
    "ceres.Solve(options, problem, summary)\n",
    "\n",
    "# report results\n",
    "# print(summary.FullReport())\n",
    "final_error = np.linalg.norm(x - xhat) + np.linalg.norm(l - lhat)\n",
    "print('Total error of optimized states and landmarks: %f -> %f' % (init_error, final_error))"
   ]
  }
 ],
 "metadata": {
  "interpreter": {
   "hash": "31f2aee4e71d21fbe5cf8b01ff0e069b9275f58929596ceb00d14d90e3e16cd6"
  },
  "kernelspec": {
   "display_name": "Python 3.8.10 64-bit",
   "language": "python",
   "name": "python3"
  },
  "language_info": {
   "codemirror_mode": {
    "name": "ipython",
    "version": 3
   },
   "file_extension": ".py",
   "mimetype": "text/x-python",
   "name": "python",
   "nbconvert_exporter": "python",
   "pygments_lexer": "ipython3",
   "version": "3.5.2"
  },
  "orig_nbformat": 4
 },
 "nbformat": 4,
 "nbformat_minor": 2
}