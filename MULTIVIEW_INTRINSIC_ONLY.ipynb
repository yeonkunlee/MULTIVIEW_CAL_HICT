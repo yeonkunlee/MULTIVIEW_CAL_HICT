{
 "cells": [
  {
   "cell_type": "code",
   "execution_count": 55,
   "metadata": {},
   "outputs": [],
   "source": [
    "import apriltag\n",
    "import cv2\n",
    "import numpy as np\n",
    "import copy\n",
    "import matplotlib.pyplot as plt\n",
    "import glob\n",
    "from scipy.optimize import minimize, least_squares\n",
    "from scipy.spatial.transform import Rotation as scipy_R\n",
    "import random"
   ]
  },
  {
   "cell_type": "code",
   "execution_count": 56,
   "metadata": {},
   "outputs": [],
   "source": [
    "%matplotlib inline"
   ]
  },
  {
   "cell_type": "markdown",
   "metadata": {},
   "source": [
    "# APRILTAG CORNER DEBUG IMAGE GENERATION"
   ]
  },
  {
   "cell_type": "code",
   "execution_count": 57,
   "metadata": {},
   "outputs": [
    {
     "name": "stdout",
     "output_type": "stream",
     "text": [
      "949\n"
     ]
    },
    {
     "ename": "KeyboardInterrupt",
     "evalue": "",
     "output_type": "error",
     "traceback": [
      "\u001b[0;31m---------------------------------------------------------------------------\u001b[0m",
      "\u001b[0;31mKeyboardInterrupt\u001b[0m                         Traceback (most recent call last)",
      "\u001b[0;32m<ipython-input-57-fd490f298fb7>\u001b[0m in \u001b[0;36m<module>\u001b[0;34m()\u001b[0m\n\u001b[1;32m     29\u001b[0m     \u001b[0mimg\u001b[0m \u001b[0;34m=\u001b[0m \u001b[0mcv2\u001b[0m\u001b[0;34m.\u001b[0m\u001b[0mresize\u001b[0m\u001b[0;34m(\u001b[0m\u001b[0mimg\u001b[0m\u001b[0;34m,\u001b[0m \u001b[0;34m(\u001b[0m\u001b[0;36m0\u001b[0m\u001b[0;34m,\u001b[0m\u001b[0;36m0\u001b[0m\u001b[0;34m)\u001b[0m\u001b[0;34m,\u001b[0m \u001b[0mfx\u001b[0m\u001b[0;34m=\u001b[0m\u001b[0mdetector_rescaler\u001b[0m\u001b[0;34m,\u001b[0m \u001b[0mfy\u001b[0m\u001b[0;34m=\u001b[0m\u001b[0mdetector_rescaler\u001b[0m\u001b[0;34m)\u001b[0m\u001b[0;34m\u001b[0m\u001b[0m\n\u001b[1;32m     30\u001b[0m     \u001b[0mimg_plot\u001b[0m \u001b[0;34m=\u001b[0m \u001b[0mcv2\u001b[0m\u001b[0;34m.\u001b[0m\u001b[0mimread\u001b[0m\u001b[0;34m(\u001b[0m\u001b[0mfname\u001b[0m\u001b[0;34m)\u001b[0m\u001b[0;34m\u001b[0m\u001b[0m\n\u001b[0;32m---> 31\u001b[0;31m     \u001b[0mresult\u001b[0m \u001b[0;34m=\u001b[0m \u001b[0mdetector\u001b[0m\u001b[0;34m.\u001b[0m\u001b[0mdetect\u001b[0m\u001b[0;34m(\u001b[0m\u001b[0mimg\u001b[0m\u001b[0;34m)\u001b[0m\u001b[0;34m\u001b[0m\u001b[0m\n\u001b[0m\u001b[1;32m     32\u001b[0m     \u001b[0mnum_detection\u001b[0m \u001b[0;34m=\u001b[0m \u001b[0mlen\u001b[0m\u001b[0;34m(\u001b[0m\u001b[0mresult\u001b[0m\u001b[0;34m)\u001b[0m\u001b[0;34m\u001b[0m\u001b[0m\n\u001b[1;32m     33\u001b[0m \u001b[0;34m\u001b[0m\u001b[0m\n",
      "\u001b[0;32m/usr/local/lib/python3.5/dist-packages/apriltag.py\u001b[0m in \u001b[0;36mdetect\u001b[0;34m(self, img, return_image)\u001b[0m\n\u001b[1;32m    358\u001b[0m \u001b[0;34m\u001b[0m\u001b[0m\n\u001b[1;32m    359\u001b[0m         \u001b[0;31m#detect apriltags in the image\u001b[0m\u001b[0;34m\u001b[0m\u001b[0;34m\u001b[0m\u001b[0m\n\u001b[0;32m--> 360\u001b[0;31m         \u001b[0mdetections\u001b[0m \u001b[0;34m=\u001b[0m \u001b[0mself\u001b[0m\u001b[0;34m.\u001b[0m\u001b[0mlibc\u001b[0m\u001b[0;34m.\u001b[0m\u001b[0mapriltag_detector_detect\u001b[0m\u001b[0;34m(\u001b[0m\u001b[0mself\u001b[0m\u001b[0;34m.\u001b[0m\u001b[0mtag_detector\u001b[0m\u001b[0;34m,\u001b[0m \u001b[0mc_img\u001b[0m\u001b[0;34m)\u001b[0m\u001b[0;34m\u001b[0m\u001b[0m\n\u001b[0m\u001b[1;32m    361\u001b[0m \u001b[0;34m\u001b[0m\u001b[0m\n\u001b[1;32m    362\u001b[0m         \u001b[0mapriltag\u001b[0m \u001b[0;34m=\u001b[0m \u001b[0mctypes\u001b[0m\u001b[0;34m.\u001b[0m\u001b[0mPOINTER\u001b[0m\u001b[0;34m(\u001b[0m\u001b[0m_ApriltagDetection\u001b[0m\u001b[0;34m)\u001b[0m\u001b[0;34m(\u001b[0m\u001b[0;34m)\u001b[0m\u001b[0;34m\u001b[0m\u001b[0m\n",
      "\u001b[0;31mKeyboardInterrupt\u001b[0m: "
     ]
    }
   ],
   "source": [
    "render_debug = True\n",
    "\n",
    "data_root = '/workspace/multiview_calibration/MULTIVIEW/cal_image/intrinsic_images'\n",
    "serial_number = '22240376'\n",
    "debug_dir = os.path.join(data_root, serial_number + '_intrinsic_debug')\n",
    "\n",
    "detector = apriltag.Detector()\n",
    "\n",
    "if not os.path.exists(debug_dir):\n",
    "    os.makedirs(debug_dir)\n",
    "\n",
    "images = glob.glob(os.path.join(data_root, serial_number, '*.jpg'))\n",
    "images.sort()\n",
    "\n",
    "print(len(images))\n",
    "\n",
    "blue = [255,0,0]\n",
    "red = [0,0,255]\n",
    "greed = [0,255,0]\n",
    "purple = [255,0,255]\n",
    "colors = [blue, red, greed, purple]\n",
    "\n",
    "frame = 0\n",
    "# detector rescale factor is, for preventing apriltag error. apriltag error is caused by the detector's high resolution.\n",
    "detector_rescaler = 0.5\n",
    "\n",
    "for fname in images:\n",
    "    img = cv2.imread(fname, cv2.IMREAD_GRAYSCALE)\n",
    "    img = cv2.resize(img, (0,0), fx=detector_rescaler, fy=detector_rescaler)\n",
    "    img_plot = cv2.imread(fname)\n",
    "    result = detector.detect(img)\n",
    "    num_detection = len(result)\n",
    "\n",
    "    for i_tag in range(num_detection):\n",
    "    \n",
    "        one_tag = result[i_tag]\n",
    "        one_tagname = result[i_tag].tag_family\n",
    "        one_corners = result[i_tag].corners\n",
    "        one_corners /= detector_rescaler\n",
    "\n",
    "        if render_debug:\n",
    "            for i_corner in range(4):\n",
    "                img_plot = cv2.circle(img_plot, (int(one_corners[i_corner,0]),int(one_corners[i_corner,1])), 0, colors[i_corner], 10)\n",
    "    \n",
    "    if render_debug:\n",
    "        cv2.imwrite(os.path.join(debug_dir,'%04d.jpg'%frame), img_plot)\n",
    "        frame += 1\n",
    "    "
   ]
  },
  {
   "cell_type": "markdown",
   "metadata": {},
   "source": [
    "# APRILTAG IMAGE LOAD"
   ]
  },
  {
   "cell_type": "code",
   "execution_count": 58,
   "metadata": {},
   "outputs": [
    {
     "name": "stdout",
     "output_type": "stream",
     "text": [
      "(2100, 2800)\n"
     ]
    }
   ],
   "source": [
    "img = cv2.imread('/workspace/multiview_calibration/ros-apriltag-board.png', cv2.IMREAD_GRAYSCALE)\n",
    "img = cv2.rotate(img, cv2.ROTATE_90_COUNTERCLOCKWISE)\n",
    "print(img.shape)\n",
    "#april_sample.png\n",
    "detector = apriltag.Detector()\n",
    "base_result = detector.detect(img)"
   ]
  },
  {
   "cell_type": "code",
   "execution_count": 73,
   "metadata": {},
   "outputs": [],
   "source": [
    "blue = [255,0,0]\n",
    "red = [0,0,255]\n",
    "greed = [0,255,0]\n",
    "purple = [255,0,255]\n",
    "\n",
    "colors = [blue, red, greed, purple]\n",
    "num_detection = len(base_result)\n",
    "\n",
    "img_plot = cv2.imread('/workspace/multiview_calibration/ros-apriltag-board.png')\n",
    "img_plot = cv2.rotate(img_plot, cv2.ROTATE_90_COUNTERCLOCKWISE)\n",
    "\n",
    "for i_tag in range(num_detection):\n",
    "    \n",
    "    one_tag = base_result[i_tag]\n",
    "    one_tagname = base_result[i_tag].tag_family\n",
    "    one_corners = base_result[i_tag].corners\n",
    "    \n",
    "    for i_corner in range(4):\n",
    "        img_plot = cv2.circle(img_plot, (int(one_corners[i_corner,0]),int(one_corners[i_corner,1])), 0, colors[i_corner], 30)"
   ]
  },
  {
   "cell_type": "code",
   "execution_count": 74,
   "metadata": {},
   "outputs": [
    {
     "data": {
      "text/plain": [
       "<matplotlib.image.AxesImage at 0x7f423bfbf4e0>"
      ]
     },
     "execution_count": 74,
     "metadata": {},
     "output_type": "execute_result"
    },
    {
     "data": {
      "image/png": "[encoded data removed]",
      "text/plain": [
       "<Figure size 800x1200 with 1 Axes>"
      ]
     },
     "metadata": {},
     "output_type": "display_data"
    }
   ],
   "source": [
    "fig=plt.figure(figsize=(8,12), dpi= 100, facecolor='w', edgecolor='k')\n",
    "plt.imshow(img_plot[:,:,::-1])"
   ]
  },
  {
   "cell_type": "code",
   "execution_count": 75,
   "metadata": {},
   "outputs": [
    {
     "data": {
      "text/plain": [
       "array([[ 3.39252180e-12,  7.07104597e-01,  7.76696612e-01],\n",
       "       [-7.07104597e-01, -3.34379516e-09,  4.33831660e+00],\n",
       "       [ 8.13671510e-15, -1.91517933e-12,  2.48542916e-03]])"
      ]
     },
     "execution_count": 75,
     "metadata": {},
     "output_type": "execute_result"
    }
   ],
   "source": [
    "base_result[0].homography"
   ]
  },
  {
   "cell_type": "markdown",
   "metadata": {},
   "source": [
    "# SYNTHESIS 3D Points and DO INTRINSIC CAL"
   ]
  },
  {
   "cell_type": "code",
   "execution_count": 76,
   "metadata": {},
   "outputs": [
    {
     "name": "stdout",
     "output_type": "stream",
     "text": [
      "1090\n"
     ]
    }
   ],
   "source": [
    "render_debug = True\n",
    "\n",
    "data_root = '/workspace/multiview_calibration/MULTIVIEW/cal_image/intrinsic_images'\n",
    "\n",
    "serial_number = '22240376'\n",
    "serial_number = '22240382'\n",
    "\n",
    "debug_dir = os.path.join(data_root, serial_number + '_intrinsic_debug')\n",
    "\n",
    "detector = apriltag.Detector()\n",
    "\n",
    "if not os.path.exists(debug_dir):\n",
    "    os.makedirs(debug_dir)\n",
    "\n",
    "images = glob.glob(os.path.join(data_root, serial_number, '*.jpg'))\n",
    "images.sort()\n",
    "\n",
    "print(len(images))\n",
    "\n",
    "blue = [255,0,0]\n",
    "red = [0,0,255]\n",
    "greed = [0,255,0]\n",
    "purple = [255,0,255]\n",
    "colors = [blue, red, greed, purple]\n",
    "\n",
    "frame = 0\n",
    "# detector rescale factor is, for preventing apriltag error. apriltag error is caused by the detector's high resolution.\n",
    "detector_rescaler = 0.5\n",
    "\n",
    "april_objpoints = []\n",
    "april_imgpoints = []\n",
    "april_imagename = []\n",
    "\n",
    "for fname in images:\n",
    "    img = cv2.imread(fname, cv2.IMREAD_GRAYSCALE)\n",
    "    img_shape = img.shape\n",
    "    img = cv2.resize(img, (0,0), fx=detector_rescaler, fy=detector_rescaler)\n",
    "    img_plot = cv2.imread(fname)\n",
    "    result = detector.detect(img)\n",
    "    num_detection = len(result)\n",
    "\n",
    "    if num_detection != 12:\n",
    "        continue\n",
    "\n",
    "    detected_tag = []\n",
    "    april_imgpt = []\n",
    "\n",
    "    for i_tag in range(num_detection):\n",
    "        one_tag = result[i_tag]\n",
    "        detected_tag.append(one_tag.tag_id)\n",
    "        one_corners = one_tag.corners/detector_rescaler\n",
    "        april_imgpt.append(one_corners)\n",
    "        \n",
    "    april_imgpt = np.array(april_imgpt)\n",
    "    april_imgpt = april_imgpt.reshape(-1, 1, 2)\n",
    "    april_imgpoints.append(april_imgpt.astype(np.float32))\n",
    "    # MAKE OBJP\n",
    "    apriltag_objp = []\n",
    "    for i_tag in detected_tag:\n",
    "        base_one_tag = base_result[i_tag]\n",
    "        base_one_corners = base_one_tag.corners\n",
    "        apriltag_objp.append(base_one_corners)\n",
    "\n",
    "    apriltag_objp = np.array(apriltag_objp)\n",
    "    apriltag_objp = apriltag_objp.reshape(-1,2)\n",
    "    _zeros = np.zeros([apriltag_objp.shape[0],1])\n",
    "    apriltag_objp = np.concatenate([apriltag_objp, _zeros], axis=1)\n",
    "    apriltag_objp *= 50/(597.00000089 - 27.99999955)\n",
    "    april_objpoints.append(apriltag_objp.astype(np.float32))\n",
    "    april_imagename.append(fname)\n",
    "\n",
    "assert len(april_imagename)==len(april_imgpoints)==len(april_objpoints), 'Error: image name, image points, object points are not matched.'    "
   ]
  },
  {
   "cell_type": "code",
   "execution_count": 77,
   "metadata": {},
   "outputs": [],
   "source": [
    "# randomly sample a subset of april_imgpoints and april_objpoints and april_imagename. no duplicated.\n",
    "num_sample = 100\n",
    "total_num = len(april_imgpoints)\n",
    "sample_idx = np.random.choice(total_num, num_sample, replace=False)\n",
    "april_imgpoints_sampled = [april_imgpoints[i] for i in sample_idx]\n",
    "april_objpoints_sampled = [april_objpoints[i] for i in sample_idx]\n",
    "april_imagename_sampled = [april_imagename[i] for i in sample_idx]\n"
   ]
  },
  {
   "cell_type": "code",
   "execution_count": 78,
   "metadata": {},
   "outputs": [
    {
     "data": {
      "text/plain": [
       "(1536, 2048)"
      ]
     },
     "execution_count": 78,
     "metadata": {},
     "output_type": "execute_result"
    }
   ],
   "source": [
    "img_shape"
   ]
  },
  {
   "cell_type": "code",
   "execution_count": 79,
   "metadata": {},
   "outputs": [
    {
     "name": "stdout",
     "output_type": "stream",
     "text": [
      "2.008343380324685\n",
      "[[2.38024252e+03 0.00000000e+00 1.04100002e+03]\n",
      " [0.00000000e+00 2.32248571e+03 7.74409638e+02]\n",
      " [0.00000000e+00 0.00000000e+00 1.00000000e+00]]\n"
     ]
    }
   ],
   "source": [
    "ret, mtx, dist, rvecs, tvecs = cv2.calibrateCamera(april_objpoints_sampled, april_imgpoints_sampled, img_shape[::-1],None,None)\n",
    "print(ret)\n",
    "print(mtx)"
   ]
  },
  {
   "cell_type": "code",
   "execution_count": 82,
   "metadata": {},
   "outputs": [
    {
     "name": "stdout",
     "output_type": "stream",
     "text": [
      "0.2795506292982054\n"
     ]
    }
   ],
   "source": [
    "# chack reprojection error of calibration\n",
    "mean_error = 0\n",
    "error_holder = []\n",
    "for i in range(len(april_imgpoints_sampled)):\n",
    "    imgpoints2, _ = cv2.projectPoints(april_objpoints_sampled[i], rvecs[i], tvecs[i], mtx, dist)\n",
    "    error = cv2.norm(april_imgpoints_sampled[i],imgpoints2, cv2.NORM_L2)/len(imgpoints2)\n",
    "    mean_error += error\n",
    "    error_holder.append(error)\n",
    "\n",
    "mean_error = mean_error/len(april_imgpoints_sampled)\n",
    "print(mean_error)\n"
   ]
  },
  {
   "cell_type": "code",
   "execution_count": 51,
   "metadata": {},
   "outputs": [],
   "source": [
    "# save calibration result with serial number\n",
    "np.savez(os.path.join(data_root, serial_number + '_intrinsic_result.npz'), mtx=mtx, dist=dist, rvecs=rvecs, tvecs=tvecs)"
   ]
  },
  {
   "cell_type": "code",
   "execution_count": 52,
   "metadata": {},
   "outputs": [],
   "source": [
    "# # load calibration result with serial number\n",
    "# npzfile = np.load(os.path.join(data_root, serial_number + '_intrinsic_result.npz'))\n",
    "# mtx = npzfile['mtx']\n",
    "# dist = npzfile['dist']\n",
    "# rvecs = npzfile['rvecs']\n",
    "# tvecs = npzfile['tvecs']\n"
   ]
  },
  {
   "cell_type": "code",
   "execution_count": 54,
   "metadata": {},
   "outputs": [
    {
     "data": {
      "text/plain": [
       "(4, 2)"
      ]
     },
     "execution_count": 54,
     "metadata": {},
     "output_type": "execute_result"
    }
   ],
   "source": [
    "one_tag.corners.shape"
   ]
  },
  {
   "cell_type": "code",
   "execution_count": null,
   "metadata": {},
   "outputs": [],
   "source": []
  },
  {
   "cell_type": "code",
   "execution_count": null,
   "metadata": {},
   "outputs": [],
   "source": []
  }
 ],
 "metadata": {
  "interpreter": {
   "hash": "767d51c1340bd893661ea55ea3124f6de3c7a262a8b4abca0554b478b1e2ff90"
  },
  "kernelspec": {
   "display_name": "Python 3.5.2 64-bit",
   "language": "python",
   "name": "python3"
  },
  "language_info": {
   "codemirror_mode": {
    "name": "ipython",
    "version": 3
   },
   "file_extension": ".py",
   "mimetype": "text/x-python",
   "name": "python",
   "nbconvert_exporter": "python",
   "pygments_lexer": "ipython3",
   "version": "3.5.2"
  }
 },
 "nbformat": 4,
 "nbformat_minor": 2
}
